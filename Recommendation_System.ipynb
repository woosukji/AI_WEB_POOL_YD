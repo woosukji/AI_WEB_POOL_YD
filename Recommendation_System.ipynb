{
  "nbformat": 4,
  "nbformat_minor": 0,
  "metadata": {
    "colab": {
      "name": "Recommendation System.ipynb",
      "provenance": [],
      "authorship_tag": "ABX9TyNjE8lC4t4mVmcSY9cgzUeh"
    },
    "kernelspec": {
      "name": "python3",
      "display_name": "Python 3"
    },
    "language_info": {
      "name": "python"
    },
    "accelerator": "GPU"
  },
  "cells": [
    {
      "cell_type": "markdown",
      "metadata": {
        "id": "A8-nlH3FVKlB"
      },
      "source": [
        "# **추천 시스템 기술 서베이**"
      ]
    },
    {
      "cell_type": "markdown",
      "metadata": {
        "id": "KkmfT9cBVQux"
      },
      "source": [
        "## **라이브러리 설치 및 보일러플레이팅**"
      ]
    },
    {
      "cell_type": "code",
      "metadata": {
        "colab": {
          "base_uri": "https://localhost:8080/"
        },
        "id": "xO2OnzWOjI-v",
        "outputId": "610ef03f-e9e4-4648-c91c-53c188e762da"
      },
      "source": [
        "from google.colab import drive\n",
        "drive.mount('/content/drive', force_remount=True)\n",
        "\n",
        "FOLDERNAME = 'ML/OSAM/'\n",
        "\n",
        "%cd drive/My\\ Drive/$FOLDERNAME/"
      ],
      "execution_count": null,
      "outputs": [
        {
          "output_type": "stream",
          "name": "stdout",
          "text": [
            "Mounted at /content/drive\n",
            "/content/drive/My Drive/ML/OSAM\n"
          ]
        }
      ]
    },
    {
      "cell_type": "code",
      "metadata": {
        "colab": {
          "base_uri": "https://localhost:8080/"
        },
        "id": "KNBuJGYV_sY8",
        "outputId": "2b531e6f-f5d4-42fb-dcdf-c67ec3b06697"
      },
      "source": [
        "!pip install transformers"
      ],
      "execution_count": null,
      "outputs": [
        {
          "output_type": "stream",
          "name": "stdout",
          "text": [
            "Collecting transformers\n",
            "  Downloading transformers-4.10.3-py3-none-any.whl (2.8 MB)\n",
            "\u001b[K     |████████████████████████████████| 2.8 MB 8.7 MB/s \n",
            "\u001b[?25hRequirement already satisfied: tqdm>=4.27 in /usr/local/lib/python3.7/dist-packages (from transformers) (4.62.2)\n",
            "Requirement already satisfied: packaging in /usr/local/lib/python3.7/dist-packages (from transformers) (21.0)\n",
            "Collecting sacremoses\n",
            "  Downloading sacremoses-0.0.45-py3-none-any.whl (895 kB)\n",
            "\u001b[K     |████████████████████████████████| 895 kB 55.9 MB/s \n",
            "\u001b[?25hRequirement already satisfied: numpy>=1.17 in /usr/local/lib/python3.7/dist-packages (from transformers) (1.19.5)\n",
            "Requirement already satisfied: regex!=2019.12.17 in /usr/local/lib/python3.7/dist-packages (from transformers) (2019.12.20)\n",
            "Requirement already satisfied: requests in /usr/local/lib/python3.7/dist-packages (from transformers) (2.23.0)\n",
            "Requirement already satisfied: importlib-metadata in /usr/local/lib/python3.7/dist-packages (from transformers) (4.8.1)\n",
            "Collecting pyyaml>=5.1\n",
            "  Downloading PyYAML-5.4.1-cp37-cp37m-manylinux1_x86_64.whl (636 kB)\n",
            "\u001b[K     |████████████████████████████████| 636 kB 72.4 MB/s \n",
            "\u001b[?25hRequirement already satisfied: filelock in /usr/local/lib/python3.7/dist-packages (from transformers) (3.0.12)\n",
            "Collecting huggingface-hub>=0.0.12\n",
            "  Downloading huggingface_hub-0.0.17-py3-none-any.whl (52 kB)\n",
            "\u001b[K     |████████████████████████████████| 52 kB 2.0 MB/s \n",
            "\u001b[?25hCollecting tokenizers<0.11,>=0.10.1\n",
            "  Downloading tokenizers-0.10.3-cp37-cp37m-manylinux_2_5_x86_64.manylinux1_x86_64.manylinux_2_12_x86_64.manylinux2010_x86_64.whl (3.3 MB)\n",
            "\u001b[K     |████████████████████████████████| 3.3 MB 52.7 MB/s \n",
            "\u001b[?25hRequirement already satisfied: typing-extensions in /usr/local/lib/python3.7/dist-packages (from huggingface-hub>=0.0.12->transformers) (3.7.4.3)\n",
            "Requirement already satisfied: pyparsing>=2.0.2 in /usr/local/lib/python3.7/dist-packages (from packaging->transformers) (2.4.7)\n",
            "Requirement already satisfied: zipp>=0.5 in /usr/local/lib/python3.7/dist-packages (from importlib-metadata->transformers) (3.5.0)\n",
            "Requirement already satisfied: urllib3!=1.25.0,!=1.25.1,<1.26,>=1.21.1 in /usr/local/lib/python3.7/dist-packages (from requests->transformers) (1.24.3)\n",
            "Requirement already satisfied: certifi>=2017.4.17 in /usr/local/lib/python3.7/dist-packages (from requests->transformers) (2021.5.30)\n",
            "Requirement already satisfied: chardet<4,>=3.0.2 in /usr/local/lib/python3.7/dist-packages (from requests->transformers) (3.0.4)\n",
            "Requirement already satisfied: idna<3,>=2.5 in /usr/local/lib/python3.7/dist-packages (from requests->transformers) (2.10)\n",
            "Requirement already satisfied: joblib in /usr/local/lib/python3.7/dist-packages (from sacremoses->transformers) (1.0.1)\n",
            "Requirement already satisfied: click in /usr/local/lib/python3.7/dist-packages (from sacremoses->transformers) (7.1.2)\n",
            "Requirement already satisfied: six in /usr/local/lib/python3.7/dist-packages (from sacremoses->transformers) (1.15.0)\n",
            "Installing collected packages: tokenizers, sacremoses, pyyaml, huggingface-hub, transformers\n",
            "  Attempting uninstall: pyyaml\n",
            "    Found existing installation: PyYAML 3.13\n",
            "    Uninstalling PyYAML-3.13:\n",
            "      Successfully uninstalled PyYAML-3.13\n",
            "Successfully installed huggingface-hub-0.0.17 pyyaml-5.4.1 sacremoses-0.0.45 tokenizers-0.10.3 transformers-4.10.3\n"
          ]
        }
      ]
    },
    {
      "cell_type": "code",
      "metadata": {
        "id": "QpU0mg_qjlu3"
      },
      "source": [
        "import tensorflow as tf\n",
        "import tensorflow.keras as k\n",
        "import transformers as t\n",
        "import numpy as np\n",
        "import pandas as pd\n",
        "import pickle\n",
        "import tqdm"
      ],
      "execution_count": null,
      "outputs": []
    },
    {
      "cell_type": "markdown",
      "metadata": {
        "id": "ywNhdvOcVdp1"
      },
      "source": [
        "## **데이터 로딩**\n",
        "\n",
        "[Wikilingua](https://github.com/esdurmus/Wikilingua) 의 한국어 [데이터셋](https://drive.google.com/drive/folders/1PFvXUOsW_KSEzFm5ixB8J8BDB8zRRfHW)을 사용 (총 4,111개의 주제, 12,176개의 문단)"
      ]
    },
    {
      "cell_type": "code",
      "metadata": {
        "colab": {
          "base_uri": "https://localhost:8080/"
        },
        "id": "S4tgmfbnjvP-",
        "outputId": "aceadda4-dbbe-4bcb-81f3-7e7bf7ac3d08"
      },
      "source": [
        "with open('korean.pkl', 'rb') as f:\n",
        "    data = pickle.load(f)\n",
        "\n",
        "lengths = [ len(item.keys()) for key, item in data.items() ]\n",
        "print(f'total {len(data.keys())} chunks, {sum(lengths)} paragraphs loaded')\n",
        "list(data.items())[0]"
      ],
      "execution_count": null,
      "outputs": [
        {
          "output_type": "stream",
          "name": "stdout",
          "text": [
            "total 4111 chunks, 12176 paragraphs loaded\n"
          ]
        },
        {
          "output_type": "execute_result",
          "data": {
            "text/plain": [
              "('https://ko.wikihow.com/%EC%83%81%EC%9E%90%EC%97%90-%EB%A6%AC%EB%B3%B8-%EB%AC%B6%EB%8A%94-%EB%B0%A9%EB%B2%95',\n",
              " {'기본으로 묶기': {'document': '10.16 - 20.32cm 정도는 밖으로 나오게 남겨둔다. 끈 끝이 너무 짧은 것보다 남겨놓는 게 더 좋다. 나중에 짧게 자를 수 있다. 상자를 뒤집지 않는다. 그러면 놓칠 수 있다. 대신에 상자를 들어서 끈을 뒤로 넣는다. 끈이 반대쪽으로 나오면 상자를 내려놓는다. 상자 중간으로 끈을 가져온 다음에 더 짧은 부분을 가져와서 만나게 한다. 끈을 서로 엮어서 수직으로 맞춘다. 끈 앞뒤가 다르다면 두 번 꼬아서 끈 뒤가 안 보이게 만든다. 다시 상자를 들어 올린다. 상자 뒤에 있는 끈의 긴 부분을 반대쪽으로 당긴다. 다시 상자를 내려놓는다. 끈으로 뒤를 감쌀 때는 끈을 엮은 부분에 엄지로 눌러 고정한다. 상자 중간으로 끈을 가져온다. 끈의 시작과 끝부분을 잰 뒤 자른다. 꼬인 부분의 앞쪽에 있는 끈을 비스듬히 당긴다. 끈을 꼬인 부분 밑으로 가져와서 처음에 시작했던 곳으로 다시 뺀다. 끈의 양 끝을 잡아당겨 매듭을 짓는다. 끈 양 끝을 접어서 고리로 만든다. 왼쪽 고리를 오른쪽 고리에 넣어 중간에 더 작은 고리를 만든다. 왼쪽 고리를 더 작은 고리 안으로 당긴 다음 조인다. 고리와 끝부분을 조절한다. 철사 끈을 사용했다면, 고리를 풍성하게 만들어준다. 더 멋지게 꾸미고 싶다면 끈 양 끝을 각지게 자르거나 V 모양으로 자른다.',\n",
              "   'english_section_name': 'Doing a Basic Wrap',\n",
              "   'english_url': 'https://www.wikihow.com/Tie-a-Ribbon-Around-a-Box',\n",
              "   'summary': '상자 위에 끈을 수평으로 놓기. 끈 나머지를 상자 밑으로 넣고 다시 앞으로 당기기. 상자 앞으로 끈을 가져오기. 끈으로 상자 뒤를 감싸고 앞으로 가져오기. 길이에 맞춰 자르기. 꼬인 부분 밑을 끈으로 감싸기. 끈을 리본 모양으로 묶기. 만든 리본을 조절하고 남은 끈은 자르기.'},\n",
              "  '대각선으로 묶기': {'document': '왼쪽 상단 구석에 10.16 - 20.32cm 정도의 끈을 남긴다. 끈 나머지 부분은 위 가장자리를 감싼다. 감싼 쪽 끈을 잡아서 오른쪽 상단 구석으로 당기고, 오른쪽 하단 구석으로 당긴다. 왼쪽 상단에 잇는 끈은 엄지로 계속 눌러서 고정한다. 끈을 딱 맞게 둘러야 끈이 옆으로 흐르지 않는다. 이쯤에서 각 모퉁이에 감싼 끈을 조절하면 좋다. 풀릴 것 같다면 모퉁이와 떨어뜨려 당겨준다. 끈 양쪽을 왼쪽 상단 모퉁이에 가져온다. 한쪽을 다른 쪽 끈에 대고 길이에 맞춰 자른다. 왼쪽 끈 위에 넣고 오른쪽 아래로 댕겨서 묶어서 조여준다. 두 끈으로 고리를 만든 다음, 오른쪽을 왼쪽으로 교차시킨다. 마치 신발을 묶듯이 말이다. 리본이 고정되게 만들었다면, 끝부분에 남은 끈을 자른다. 좀 저 멋지게 만들고 싶다면, 끝부분을 각지어 자르거나 V자로 자른다.',\n",
              "   'english_section_name': 'Tying Ribbon Diagonally',\n",
              "   'english_url': 'https://www.wikihow.com/Tie-a-Ribbon-Around-a-Box',\n",
              "   'summary': '상자 왼쪽 상단 구석에 끈을 두르기. 오른쪽 상단 구석에 끈을 두르기. 끈으로 오른쪽 하단 구석과 왼쪽 구석을 감싸기. 끈을 왼쪽 상단 구석으로 다시 가져오기. 남은 끈 자르기. 끈을 교차 시켜 묶기. 남은 끈 자르기.'},\n",
              "  '엮어 묶기': {'document': '끈을 상자 길이에 5.08cm를 더한 길이로 네 개를 잘라야 한다.  색다른 느낌을 원한다면, 약간 더 넓은 끈 두 개를 사용해본다. 아니면 보색인 끈 색상 두 개를 사용할 수도 있다. 두꺼운 끈이나 철사 끈은 적합하지 않다. 새틴 재질이나 풍선용 끈이 가장 좋다. 이전과 같은 끈을 사용한다. 이번에는 끈을 상자 넓이에 5.08cm를 더한 길이로 잘라야 한다. 끈 네 개를 탁자에 둔다. 서로 평행이 되게, 간격이 0.64cm이상 되지 않게 두어야 한다. 다른 너비/색상의 끈을 사용했다면, 서로 바꾸어가며 놓아야 한다. 상자 위쪽이 끈을 향하게 놓는다. 원하는 끈의 위치에 따라 상자가 가운데 오거나 가운데를 벗어나도 된다. 한번에 한 끈을 감싸고 테이프를 붙인다. 한꺼번에 양쪽 다 테이프를 붙이지 않는다. 끈으로 상자를 단단히 감싸서 딱 맞게 두른다. 끈 끝이 2.54cm 정도 겹칠 것이다.  끈 위쪽과 아래쪽만 테이프를 붙이는 것에 주의한다. 끈을 상자에 붙이지 않는다. 양면테이프 대신에 글루닷을 사용해도 된다. 양면테이프를 짧은 끈 끝에 다 붙인다. 처음에 두른 긴 끈 위에다가 짧은 끈을 두르고 끝부분이 수직이 되게 만든다. 이번에도 끈 간격이 0.64cm 이상이면 안 된다. 짧은 끈을 상자 앞으로 당긴다. 처음에 두른 끈 위로 엮고 밑으로 넣는다. 다음 끈은 아래로 엮고 다시 위로 엮는다. 끈 네 개를 다 엮을 때까지 계속한다. 상자를 다시 뒤집는다. 끈 양 끝에 양면테이프를 붙여서 상자 뒤에 끈을 하나씩 붙인다. 끈 끝이 맞게 잘 붙인다. 더 꾸미고 싶다면, 앞에 한 것처럼 뒤에도 짧은 끈을 긴 끈에 엮는다. 끈으로 엮은 부분이 꾸민 부분이다. 뭔가 부족하다는 생각이 들면 리본을 사거나 만들어서 상자에 고정한다. 열심히 만든 부분을 다 가리지 말고 리본을 옆에 붙여서 열심히 엮은 부분이 보이게 만든다.',\n",
              "   'english_section_name': 'Creating a Woven Look',\n",
              "   'english_url': 'https://www.wikihow.com/Tie-a-Ribbon-Around-a-Box',\n",
              "   'summary': '상자 길이에 맞게 끈을 자르기. 끈을 상자 넓이에 맞게 자르기. 처음 자른 끈을 탁자에 일렬로 두기. 끈 위에 상자를 놓기. 끈으로 상자를 감싸고 양면테이프로 고정하기. 처음 두른 끈 위에 나머지 끈을 고정하기. 상자를 뒤집어서 짧은 끈을 처음에 두른 끈에 엮기. 끈을 상자 뒤에 고정한다. 원한다면 앞에 장식 붙이기.'}})"
            ]
          },
          "metadata": {},
          "execution_count": 3
        }
      ]
    },
    {
      "cell_type": "code",
      "metadata": {
        "colab": {
          "base_uri": "https://localhost:8080/",
          "height": 289
        },
        "id": "86WlM0NCp5RA",
        "outputId": "9b59c4d8-73c9-407f-9088-d01abd1bedd1"
      },
      "source": [
        "from urllib import parse\n",
        "\n",
        "titles, subtitles, english_section_names, english_urls, documents, summaries = [], [], [], [], [], []\n",
        "\n",
        "for url, chunk in data.items():\n",
        "    title = parse.unquote(url.split('/')[-1]).replace('-', ' ')\n",
        "    for subtitle, page in chunk.items():\n",
        "        titles.append(title)\n",
        "        subtitles.append(subtitle)\n",
        "        english_section_names.append(page['english_section_name'])\n",
        "        english_urls.append(page['english_url'])\n",
        "        documents.append(page['document'])\n",
        "        summaries.append(page['summary'])\n",
        "\n",
        "df = pd.DataFrame({\n",
        "    'title': titles,\n",
        "    'subtitle': subtitles,\n",
        "    'english_section_name': english_section_names,\n",
        "    'english_url' : english_urls,\n",
        "    'document': documents,\n",
        "    'summary': summaries\n",
        "})\n",
        "df.head()"
      ],
      "execution_count": null,
      "outputs": [
        {
          "output_type": "execute_result",
          "data": {
            "text/html": [
              "<div>\n",
              "<style scoped>\n",
              "    .dataframe tbody tr th:only-of-type {\n",
              "        vertical-align: middle;\n",
              "    }\n",
              "\n",
              "    .dataframe tbody tr th {\n",
              "        vertical-align: top;\n",
              "    }\n",
              "\n",
              "    .dataframe thead th {\n",
              "        text-align: right;\n",
              "    }\n",
              "</style>\n",
              "<table border=\"1\" class=\"dataframe\">\n",
              "  <thead>\n",
              "    <tr style=\"text-align: right;\">\n",
              "      <th></th>\n",
              "      <th>title</th>\n",
              "      <th>subtitle</th>\n",
              "      <th>english_section_name</th>\n",
              "      <th>english_url</th>\n",
              "      <th>document</th>\n",
              "      <th>summary</th>\n",
              "    </tr>\n",
              "  </thead>\n",
              "  <tbody>\n",
              "    <tr>\n",
              "      <th>0</th>\n",
              "      <td>상자에 리본 묶는 방법</td>\n",
              "      <td>대각선으로 묶기</td>\n",
              "      <td>Tying Ribbon Diagonally</td>\n",
              "      <td>https://www.wikihow.com/Tie-a-Ribbon-Around-a-Box</td>\n",
              "      <td>왼쪽 상단 구석에 10.16 - 20.32cm 정도의 끈을 남긴다. 끈 나머지 부분...</td>\n",
              "      <td>상자 왼쪽 상단 구석에 끈을 두르기. 오른쪽 상단 구석에 끈을 두르기. 끈으로 오른...</td>\n",
              "    </tr>\n",
              "    <tr>\n",
              "      <th>1</th>\n",
              "      <td>상자에 리본 묶는 방법</td>\n",
              "      <td>기본으로 묶기</td>\n",
              "      <td>Doing a Basic Wrap</td>\n",
              "      <td>https://www.wikihow.com/Tie-a-Ribbon-Around-a-Box</td>\n",
              "      <td>10.16 - 20.32cm 정도는 밖으로 나오게 남겨둔다. 끈 끝이 너무 짧은 것...</td>\n",
              "      <td>상자 위에 끈을 수평으로 놓기. 끈 나머지를 상자 밑으로 넣고 다시 앞으로 당기기....</td>\n",
              "    </tr>\n",
              "    <tr>\n",
              "      <th>2</th>\n",
              "      <td>상자에 리본 묶는 방법</td>\n",
              "      <td>엮어 묶기</td>\n",
              "      <td>Creating a Woven Look</td>\n",
              "      <td>https://www.wikihow.com/Tie-a-Ribbon-Around-a-Box</td>\n",
              "      <td>끈을 상자 길이에 5.08cm를 더한 길이로 네 개를 잘라야 한다.  색다른 느낌을...</td>\n",
              "      <td>상자 길이에 맞게 끈을 자르기. 끈을 상자 넓이에 맞게 자르기. 처음 자른 끈을 탁...</td>\n",
              "    </tr>\n",
              "    <tr>\n",
              "      <th>3</th>\n",
              "      <td>집에서 아이스크림 만드는 법</td>\n",
              "      <td>커스터드 아이스크림 베이스 준비하기</td>\n",
              "      <td>Preparing a Custard Ice Cream Base</td>\n",
              "      <td>https://www.wikihow.com/Make-Ice-Cream</td>\n",
              "      <td>전유를 중간 사이즈 냄비에 3컵 (700 ml)을 부어주고, 냄비를 가스레인지 위에...</td>\n",
              "      <td>우유를 약하게 끓이기. 30분 동안 혼합물을 식혀주기.</td>\n",
              "    </tr>\n",
              "    <tr>\n",
              "      <th>4</th>\n",
              "      <td>집에서 아이스크림 만드는 법</td>\n",
              "      <td>손으로 아이스크림 휘젓기</td>\n",
              "      <td>Churning the Ice Cream By Hand</td>\n",
              "      <td>https://www.wikihow.com/Make-Ice-Cream</td>\n",
              "      <td>냉동해도 안전한 얇은 팬이나 그릇을 사용한다. 베이스를 만들어주기 전에 냉동 용기를...</td>\n",
              "      <td>냉동 용기를 얼리기. 약 2시간 동안 얼리기와 휘젓기의 과정을 반복하기.</td>\n",
              "    </tr>\n",
              "  </tbody>\n",
              "</table>\n",
              "</div>"
            ],
            "text/plain": [
              "             title  ...                                            summary\n",
              "0     상자에 리본 묶는 방법  ...  상자 왼쪽 상단 구석에 끈을 두르기. 오른쪽 상단 구석에 끈을 두르기. 끈으로 오른...\n",
              "1     상자에 리본 묶는 방법  ...  상자 위에 끈을 수평으로 놓기. 끈 나머지를 상자 밑으로 넣고 다시 앞으로 당기기....\n",
              "2     상자에 리본 묶는 방법  ...  상자 길이에 맞게 끈을 자르기. 끈을 상자 넓이에 맞게 자르기. 처음 자른 끈을 탁...\n",
              "3  집에서 아이스크림 만드는 법  ...                     우유를 약하게 끓이기. 30분 동안 혼합물을 식혀주기.\n",
              "4  집에서 아이스크림 만드는 법  ...           냉동 용기를 얼리기. 약 2시간 동안 얼리기와 휘젓기의 과정을 반복하기.\n",
              "\n",
              "[5 rows x 6 columns]"
            ]
          },
          "metadata": {},
          "execution_count": 4
        }
      ]
    },
    {
      "cell_type": "code",
      "metadata": {
        "colab": {
          "base_uri": "https://localhost:8080/"
        },
        "id": "y2uxRcaUk5E0",
        "outputId": "e4233ea3-3f36-4feb-b2aa-8e9a91709d5b"
      },
      "source": [
        "df.document[0], df.summary[0]"
      ],
      "execution_count": null,
      "outputs": [
        {
          "output_type": "execute_result",
          "data": {
            "text/plain": [
              "('왼쪽 상단 구석에 10.16 - 20.32cm 정도의 끈을 남긴다. 끈 나머지 부분은 위 가장자리를 감싼다. 감싼 쪽 끈을 잡아서 오른쪽 상단 구석으로 당기고, 오른쪽 하단 구석으로 당긴다. 왼쪽 상단에 잇는 끈은 엄지로 계속 눌러서 고정한다. 끈을 딱 맞게 둘러야 끈이 옆으로 흐르지 않는다. 이쯤에서 각 모퉁이에 감싼 끈을 조절하면 좋다. 풀릴 것 같다면 모퉁이와 떨어뜨려 당겨준다. 끈 양쪽을 왼쪽 상단 모퉁이에 가져온다. 한쪽을 다른 쪽 끈에 대고 길이에 맞춰 자른다. 왼쪽 끈 위에 넣고 오른쪽 아래로 댕겨서 묶어서 조여준다. 두 끈으로 고리를 만든 다음, 오른쪽을 왼쪽으로 교차시킨다. 마치 신발을 묶듯이 말이다. 리본이 고정되게 만들었다면, 끝부분에 남은 끈을 자른다. 좀 저 멋지게 만들고 싶다면, 끝부분을 각지어 자르거나 V자로 자른다.',\n",
              " '상자 왼쪽 상단 구석에 끈을 두르기. 오른쪽 상단 구석에 끈을 두르기. 끈으로 오른쪽 하단 구석과 왼쪽 구석을 감싸기. 끈을 왼쪽 상단 구석으로 다시 가져오기. 남은 끈 자르기. 끈을 교차 시켜 묶기. 남은 끈 자르기.')"
            ]
          },
          "metadata": {},
          "execution_count": 58
        }
      ]
    },
    {
      "cell_type": "code",
      "metadata": {
        "colab": {
          "base_uri": "https://localhost:8080/",
          "height": 286
        },
        "id": "RM_5ZjrDsidp",
        "outputId": "f7fbd353-d895-4e1a-d8e1-5cbf15a729ec"
      },
      "source": [
        "# 한 제목 당 글타래 개수\n",
        "\n",
        "df.groupby('title').size().value_counts().sort_index().plot(kind='bar')"
      ],
      "execution_count": null,
      "outputs": [
        {
          "output_type": "execute_result",
          "data": {
            "text/plain": [
              "<matplotlib.axes._subplots.AxesSubplot at 0x7f7f8f653ad0>"
            ]
          },
          "metadata": {},
          "execution_count": 54
        },
        {
          "output_type": "display_data",
          "data": {
            "image/png": "[encoded data removed]",
            "text/plain": [
              "<Figure size 432x288 with 1 Axes>"
            ]
          },
          "metadata": {
            "needs_background": "light"
          }
        }
      ]
    },
    {
      "cell_type": "code",
      "metadata": {
        "colab": {
          "base_uri": "https://localhost:8080/",
          "height": 283
        },
        "id": "Oq0c9gwVDCwJ",
        "outputId": "3564f1ce-6a3c-441c-83bd-a42f828eeee3"
      },
      "source": [
        "# 글타래 길이의 분포\n",
        "df['document'].map(lambda s: len(s)).hist(bins=100)"
      ],
      "execution_count": null,
      "outputs": [
        {
          "output_type": "execute_result",
          "data": {
            "text/plain": [
              "<matplotlib.axes._subplots.AxesSubplot at 0x7f046922edd0>"
            ]
          },
          "metadata": {},
          "execution_count": 53
        },
        {
          "output_type": "display_data",
          "data": {
            "image/png": "[encoded data removed]",
            "text/plain": [
              "<Figure size 432x288 with 1 Axes>"
            ]
          },
          "metadata": {
            "needs_background": "light"
          }
        }
      ]
    },
    {
      "cell_type": "markdown",
      "metadata": {
        "id": "mJwbmV3EWNk1"
      },
      "source": [
        "## **KcBERT 테스트**"
      ]
    },
    {
      "cell_type": "code",
      "metadata": {
        "colab": {
          "base_uri": "https://localhost:8080/"
        },
        "id": "mJE2H50B_1es",
        "outputId": "763764ae-950e-4730-ccd7-df4bd5844341"
      },
      "source": [
        "pretrained_name = 'beomi/kcbert-base'\n",
        "\n",
        "tokenizer = t.BertTokenizer.from_pretrained(pretrained_name)\n",
        "\n",
        "model = t.TFBertModel.from_pretrained(pretrained_name, from_pt=True)"
      ],
      "execution_count": null,
      "outputs": [
        {
          "output_type": "stream",
          "name": "stderr",
          "text": [
            "Some weights of the PyTorch model were not used when initializing the TF 2.0 model TFBertModel: ['cls.seq_relationship.bias', 'cls.predictions.transform.dense.bias', 'cls.predictions.transform.LayerNorm.weight', 'cls.seq_relationship.weight', 'cls.predictions.bias', 'cls.predictions.decoder.bias', 'cls.predictions.transform.LayerNorm.bias', 'cls.predictions.decoder.weight', 'cls.predictions.transform.dense.weight']\n",
            "- This IS expected if you are initializing TFBertModel from a PyTorch model trained on another task or with another architecture (e.g. initializing a TFBertForSequenceClassification model from a BertForPreTraining model).\n",
            "- This IS NOT expected if you are initializing TFBertModel from a PyTorch model that you expect to be exactly identical (e.g. initializing a TFBertForSequenceClassification model from a BertForSequenceClassification model).\n",
            "All the weights of TFBertModel were initialized from the PyTorch model.\n",
            "If your task is similar to the task the model of the checkpoint was trained on, you can already use TFBertModel for predictions without further training.\n"
          ]
        }
      ]
    },
    {
      "cell_type": "code",
      "metadata": {
        "id": "z4EYKSCPQrPP"
      },
      "source": [
        "# conducts BERT embedding by batch\n",
        "\n",
        "import math\n",
        "\n",
        "def batch_embed(batch_sentences, use_summary=False):\n",
        "\n",
        "    tokenized = tokenizer(batch_sentences, \n",
        "                        padding='max_length', \n",
        "                        truncation=True, \n",
        "                        max_length=300, \n",
        "                        return_tensors='tf')\n",
        "    input_ids = tokenized['input_ids']\n",
        "    input_mask = tf.cast(tokenized['attention_mask'], 'float32')\n",
        "\n",
        "    embedding = model(input_ids=input_ids)['last_hidden_state']\n",
        "\n",
        "    # using CLS token embedding\n",
        "    if use_summary:\n",
        "        final_embedding = embedding[:, 0, :]\n",
        "\n",
        "    else:\n",
        "        embedding_masked = tf.expand_dims(input_mask, -1) * embedding\n",
        "        final_embedding = tf.reduce_sum(embedding_masked, axis=1) / tf.reduce_sum(input_mask, axis=-1, keepdims=True)\n",
        "    \n",
        "    return final_embedding\n",
        "\n",
        "def embed(sentences, batch_size=100, use_summary=False):\n",
        "    \n",
        "    embedding_list = []\n",
        "\n",
        "    for i in tqdm.tqdm(range( math.ceil( len(sentences) / batch_size ) )):\n",
        "        start_idx = i * batch_size\n",
        "        batch = sentences[ start_idx : start_idx + batch_size ].tolist()\n",
        "        embedding_list.append( batch_embed(batch, use_summary=use_summary) )\n",
        "    \n",
        "    return tf.concat(embedding_list, 0)\n",
        "\n",
        "embedded_document = embed(df.document)\n",
        "np.save('embed_document_avg', embedded_document.numpy())"
      ],
      "execution_count": null,
      "outputs": []
    },
    {
      "cell_type": "code",
      "metadata": {
        "id": "dRNPdsM7iOVo"
      },
      "source": [
        "embedded_document = tf.constant(np.load('embed_document_avg.npy'))"
      ],
      "execution_count": null,
      "outputs": []
    },
    {
      "cell_type": "markdown",
      "metadata": {
        "id": "XUKOE_McWqGS"
      },
      "source": [
        "효율적인 NN(Nearest Neighbors) 알고리즘이 구현된 [annoy](https://github.com/spotify/annoy) 패키지를 사용"
      ]
    },
    {
      "cell_type": "code",
      "metadata": {
        "colab": {
          "base_uri": "https://localhost:8080/"
        },
        "id": "BiU7p5j-apUE",
        "outputId": "4deeb13d-ab42-4183-ffeb-71bf94cd6466"
      },
      "source": [
        "!pip install annoy"
      ],
      "execution_count": null,
      "outputs": [
        {
          "output_type": "stream",
          "name": "stdout",
          "text": [
            "Collecting annoy\n",
            "  Downloading annoy-1.17.0.tar.gz (646 kB)\n",
            "\u001b[?25l\r\u001b[K     |▌                               | 10 kB 38.9 MB/s eta 0:00:01\r\u001b[K     |█                               | 20 kB 30.8 MB/s eta 0:00:01\r\u001b[K     |█▌                              | 30 kB 19.4 MB/s eta 0:00:01\r\u001b[K     |██                              | 40 kB 15.8 MB/s eta 0:00:01\r\u001b[K     |██▌                             | 51 kB 7.0 MB/s eta 0:00:01\r\u001b[K     |███                             | 61 kB 7.5 MB/s eta 0:00:01\r\u001b[K     |███▌                            | 71 kB 6.7 MB/s eta 0:00:01\r\u001b[K     |████                            | 81 kB 7.5 MB/s eta 0:00:01\r\u001b[K     |████▋                           | 92 kB 7.6 MB/s eta 0:00:01\r\u001b[K     |█████                           | 102 kB 6.7 MB/s eta 0:00:01\r\u001b[K     |█████▋                          | 112 kB 6.7 MB/s eta 0:00:01\r\u001b[K     |██████                          | 122 kB 6.7 MB/s eta 0:00:01\r\u001b[K     |██████▋                         | 133 kB 6.7 MB/s eta 0:00:01\r\u001b[K     |███████                         | 143 kB 6.7 MB/s eta 0:00:01\r\u001b[K     |███████▋                        | 153 kB 6.7 MB/s eta 0:00:01\r\u001b[K     |████████▏                       | 163 kB 6.7 MB/s eta 0:00:01\r\u001b[K     |████████▋                       | 174 kB 6.7 MB/s eta 0:00:01\r\u001b[K     |█████████▏                      | 184 kB 6.7 MB/s eta 0:00:01\r\u001b[K     |█████████▋                      | 194 kB 6.7 MB/s eta 0:00:01\r\u001b[K     |██████████▏                     | 204 kB 6.7 MB/s eta 0:00:01\r\u001b[K     |██████████▋                     | 215 kB 6.7 MB/s eta 0:00:01\r\u001b[K     |███████████▏                    | 225 kB 6.7 MB/s eta 0:00:01\r\u001b[K     |███████████▋                    | 235 kB 6.7 MB/s eta 0:00:01\r\u001b[K     |████████████▏                   | 245 kB 6.7 MB/s eta 0:00:01\r\u001b[K     |████████████▊                   | 256 kB 6.7 MB/s eta 0:00:01\r\u001b[K     |█████████████▏                  | 266 kB 6.7 MB/s eta 0:00:01\r\u001b[K     |█████████████▊                  | 276 kB 6.7 MB/s eta 0:00:01\r\u001b[K     |██████████████▏                 | 286 kB 6.7 MB/s eta 0:00:01\r\u001b[K     |██████████████▊                 | 296 kB 6.7 MB/s eta 0:00:01\r\u001b[K     |███████████████▏                | 307 kB 6.7 MB/s eta 0:00:01\r\u001b[K     |███████████████▊                | 317 kB 6.7 MB/s eta 0:00:01\r\u001b[K     |████████████████▎               | 327 kB 6.7 MB/s eta 0:00:01\r\u001b[K     |████████████████▊               | 337 kB 6.7 MB/s eta 0:00:01\r\u001b[K     |█████████████████▎              | 348 kB 6.7 MB/s eta 0:00:01\r\u001b[K     |█████████████████▊              | 358 kB 6.7 MB/s eta 0:00:01\r\u001b[K     |██████████████████▎             | 368 kB 6.7 MB/s eta 0:00:01\r\u001b[K     |██████████████████▊             | 378 kB 6.7 MB/s eta 0:00:01\r\u001b[K     |███████████████████▎            | 389 kB 6.7 MB/s eta 0:00:01\r\u001b[K     |███████████████████▊            | 399 kB 6.7 MB/s eta 0:00:01\r\u001b[K     |████████████████████▎           | 409 kB 6.7 MB/s eta 0:00:01\r\u001b[K     |████████████████████▉           | 419 kB 6.7 MB/s eta 0:00:01\r\u001b[K     |█████████████████████▎          | 430 kB 6.7 MB/s eta 0:00:01\r\u001b[K     |█████████████████████▉          | 440 kB 6.7 MB/s eta 0:00:01\r\u001b[K     |██████████████████████▎         | 450 kB 6.7 MB/s eta 0:00:01\r\u001b[K     |██████████████████████▉         | 460 kB 6.7 MB/s eta 0:00:01\r\u001b[K     |███████████████████████▎        | 471 kB 6.7 MB/s eta 0:00:01\r\u001b[K     |███████████████████████▉        | 481 kB 6.7 MB/s eta 0:00:01\r\u001b[K     |████████████████████████▍       | 491 kB 6.7 MB/s eta 0:00:01\r\u001b[K     |████████████████████████▉       | 501 kB 6.7 MB/s eta 0:00:01\r\u001b[K     |█████████████████████████▍      | 512 kB 6.7 MB/s eta 0:00:01\r\u001b[K     |█████████████████████████▉      | 522 kB 6.7 MB/s eta 0:00:01\r\u001b[K     |██████████████████████████▍     | 532 kB 6.7 MB/s eta 0:00:01\r\u001b[K     |██████████████████████████▉     | 542 kB 6.7 MB/s eta 0:00:01\r\u001b[K     |███████████████████████████▍    | 552 kB 6.7 MB/s eta 0:00:01\r\u001b[K     |███████████████████████████▉    | 563 kB 6.7 MB/s eta 0:00:01\r\u001b[K     |████████████████████████████▍   | 573 kB 6.7 MB/s eta 0:00:01\r\u001b[K     |█████████████████████████████   | 583 kB 6.7 MB/s eta 0:00:01\r\u001b[K     |█████████████████████████████▍  | 593 kB 6.7 MB/s eta 0:00:01\r\u001b[K     |██████████████████████████████  | 604 kB 6.7 MB/s eta 0:00:01\r\u001b[K     |██████████████████████████████▍ | 614 kB 6.7 MB/s eta 0:00:01\r\u001b[K     |███████████████████████████████ | 624 kB 6.7 MB/s eta 0:00:01\r\u001b[K     |███████████████████████████████▍| 634 kB 6.7 MB/s eta 0:00:01\r\u001b[K     |████████████████████████████████| 645 kB 6.7 MB/s eta 0:00:01\r\u001b[K     |████████████████████████████████| 646 kB 6.7 MB/s \n",
            "\u001b[?25hBuilding wheels for collected packages: annoy\n",
            "  Building wheel for annoy (setup.py) ... \u001b[?25l\u001b[?25hdone\n",
            "  Created wheel for annoy: filename=annoy-1.17.0-cp37-cp37m-linux_x86_64.whl size=394554 sha256=dc399e0f9dc290b734544e6fbc760b0ae9cc95fd77a018e4c797f1d5f74d64fe\n",
            "  Stored in directory: /root/.cache/pip/wheels/4f/e8/1e/7cc9ebbfa87a3b9f8ba79408d4d31831d67eea918b679a4c07\n",
            "Successfully built annoy\n",
            "Installing collected packages: annoy\n",
            "Successfully installed annoy-1.17.0\n"
          ]
        }
      ]
    },
    {
      "cell_type": "code",
      "metadata": {
        "colab": {
          "base_uri": "https://localhost:8080/"
        },
        "id": "gfBOgypAamul",
        "outputId": "baa441e7-6db0-44fa-aae0-652deb9c3b12"
      },
      "source": [
        "from annoy import AnnoyIndex\n",
        "\n",
        "# DO NOT USE TF TENSOR!!! super slow\n",
        "# embedded_document = embedded_document.numpy()\n",
        "\n",
        "length_of_vector = embedded_document.shape[1]\n",
        "annoy_index = AnnoyIndex(length_of_vector, 'angular')  \n",
        "\n",
        "for idx, doc_vec in tqdm.tqdm(enumerate(embedded_document)):\n",
        "    annoy_index.add_item(idx, doc_vec)\n",
        "\n",
        "annoy_index.build(10) \n",
        "annoy_index.save('bert_document_avg.annoy')"
      ],
      "execution_count": null,
      "outputs": [
        {
          "output_type": "stream",
          "name": "stderr",
          "text": [
            "12176it [00:01, 9477.73it/s]\n"
          ]
        },
        {
          "output_type": "execute_result",
          "data": {
            "text/plain": [
              "True"
            ]
          },
          "metadata": {},
          "execution_count": 19
        }
      ]
    },
    {
      "cell_type": "code",
      "metadata": {
        "colab": {
          "base_uri": "https://localhost:8080/",
          "height": 529
        },
        "id": "2nBtyWXWxMv9",
        "outputId": "6dc05e8f-2cbe-4b6d-fc77-a250ff217b49"
      },
      "source": [
        "n = 10\n",
        "idx = 0\n",
        "similar_idxs = annoy_index.get_nns_by_item(idx, n)\n",
        "df.iloc[similar_idxs, :]"
      ],
      "execution_count": null,
      "outputs": [
        {
          "output_type": "execute_result",
          "data": {
            "text/html": [
              "<div>\n",
              "<style scoped>\n",
              "    .dataframe tbody tr th:only-of-type {\n",
              "        vertical-align: middle;\n",
              "    }\n",
              "\n",
              "    .dataframe tbody tr th {\n",
              "        vertical-align: top;\n",
              "    }\n",
              "\n",
              "    .dataframe thead th {\n",
              "        text-align: right;\n",
              "    }\n",
              "</style>\n",
              "<table border=\"1\" class=\"dataframe\">\n",
              "  <thead>\n",
              "    <tr style=\"text-align: right;\">\n",
              "      <th></th>\n",
              "      <th>title</th>\n",
              "      <th>subtitle</th>\n",
              "      <th>english_section_name</th>\n",
              "      <th>english_url</th>\n",
              "      <th>document</th>\n",
              "      <th>summary</th>\n",
              "    </tr>\n",
              "  </thead>\n",
              "  <tbody>\n",
              "    <tr>\n",
              "      <th>0</th>\n",
              "      <td>상자에 리본 묶는 방법</td>\n",
              "      <td>대각선으로 묶기</td>\n",
              "      <td>Tying Ribbon Diagonally</td>\n",
              "      <td>https://www.wikihow.com/Tie-a-Ribbon-Around-a-Box</td>\n",
              "      <td>왼쪽 상단 구석에 10.16 - 20.32cm 정도의 끈을 남긴다. 끈 나머지 부분...</td>\n",
              "      <td>상자 왼쪽 상단 구석에 끈을 두르기. 오른쪽 상단 구석에 끈을 두르기. 끈으로 오른...</td>\n",
              "    </tr>\n",
              "    <tr>\n",
              "      <th>4104</th>\n",
              "      <td>긴 머리 혼자 자르는 법</td>\n",
              "      <td>비틀기로 픽시컷하기</td>\n",
              "      <td>Using the Twist Method for a Pixie Cut</td>\n",
              "      <td>https://www.wikihow.com/Cut-Your-Own-Long-Hair</td>\n",
              "      <td>앞머리를 좀더 길게 하려면 자르기 전에 빗으로 정수리 부분부터 머리카락을 내려 모은...</td>\n",
              "      <td>앞머리를 앞 쪽으로 모은다. 머리를 모두 정수리 쪽으로 모아 잡고 단단하게 비튼다....</td>\n",
              "    </tr>\n",
              "    <tr>\n",
              "      <th>1881</th>\n",
              "      <td>우정팔찌 만드는 방법</td>\n",
              "      <td>혼자 팔찌 고정하기</td>\n",
              "      <td>Securing Your Bracelet By Yourself</td>\n",
              "      <td>https://www.wikihow.com/Tie-Friendship-Bracelets</td>\n",
              "      <td>끝에 고리가 있는 팔찌를 찬다면 먼저 땋아진 끝 부분 하나를 고리에 넣고, 그 땋은...</td>\n",
              "      <td>팔찌 차기 전에 고리에 끝을 넣기. 손목 안쪽의 팔찌 끝 부분에 테이프 붙이기. 고...</td>\n",
              "    </tr>\n",
              "    <tr>\n",
              "      <th>3901</th>\n",
              "      <td>토가 입는 방법</td>\n",
              "      <td>홀터넥 토가 두르는 방법</td>\n",
              "      <td>Wrapping a Halter Toga</td>\n",
              "      <td>https://www.wikihow.com/Wrap-a-Toga</td>\n",
              "      <td>서있는 상태에서 몸 앞쪽으로 침대보를 가로 방향으로 들어준다. 다리를 얼마나 가려줄...</td>\n",
              "      <td>침대보를 반으로 접어주기. 가슴에 침대보 감아주기. 홀터 모양 만들어주기. 토가를 ...</td>\n",
              "    </tr>\n",
              "    <tr>\n",
              "      <th>4103</th>\n",
              "      <td>긴 머리 혼자 자르는 법</td>\n",
              "      <td>양갈래로 묶고 커트하기</td>\n",
              "      <td>Cutting Pigtails</td>\n",
              "      <td>https://www.wikihow.com/Cut-Your-Own-Long-Hair</td>\n",
              "      <td>스트레이트가 아닌 상태라면 스트레이트하게 만든 후에 시작해야 한다. 머리카락 끝 부...</td>\n",
              "      <td>깨끗하게 말린 머리를 잘 빗은 상태에서 시작한다. 앞가르마 타기. 느슨하게 아래쪽에...</td>\n",
              "    </tr>\n",
              "    <tr>\n",
              "      <th>8336</th>\n",
              "      <td>프렌치 스타일로 머리 땋는 법</td>\n",
              "      <td>클래식한 프렌치 스타일로 땋기</td>\n",
              "      <td>Creating a Classic French Braid</td>\n",
              "      <td>https://www.wikihow.com/French-Braid</td>\n",
              "      <td>머리를 빗어 엉킨 부분을 풀어주며 부드럽게 만들어 머리를 땋을 준비를 한다. 한 갈...</td>\n",
              "      <td>머리를 준비한다. 땋기를 마무리한다.</td>\n",
              "    </tr>\n",
              "    <tr>\n",
              "      <th>3903</th>\n",
              "      <td>토가 입는 방법</td>\n",
              "      <td>사리 스타일의 토가 두르는 방법</td>\n",
              "      <td>Wrapping a Saree-Inspired Toga</td>\n",
              "      <td>https://www.wikihow.com/Wrap-a-Toga</td>\n",
              "      <td>서서 침대보를 가로 방향이 되도록 몸 앞쪽으로 들어보자. 침대보의 양 끝을 잡고 토...</td>\n",
              "      <td>침대보를 반으로 접어주기. 한 쪽을 허리에 감아주기. 뒤편에 남아있는 침대보도 앞쪽...</td>\n",
              "    </tr>\n",
              "    <tr>\n",
              "      <th>4101</th>\n",
              "      <td>긴 머리 혼자 자르는 법</td>\n",
              "      <td>비틀어 커트하기</td>\n",
              "      <td>Using the Twist Method</td>\n",
              "      <td>https://www.wikihow.com/Cut-Your-Own-Long-Hair</td>\n",
              "      <td>이 커트는 비스듬하게 각이 생기하므로 A라인 보브단발을 원한다면 최적의 스타일이다....</td>\n",
              "      <td>정수리부터 전체적으로 잘 빗어주고 단단하게 비튼다. 원하는 만큼 자르기. 머리카락을...</td>\n",
              "    </tr>\n",
              "    <tr>\n",
              "      <th>8810</th>\n",
              "      <td>자기 등에 로션바르는 방법</td>\n",
              "      <td>앞쪽 팔 이용하기</td>\n",
              "      <td>Utilizing Your Forearms</td>\n",
              "      <td>https://www.wikihow.com/Apply-Lotion-to-Your-O...</td>\n",
              "      <td>팔꿈치를 굽힌 채 팔을 앞으로 평평하게 유지한다. 팔 위가 수평이 되어야 한다. 손...</td>\n",
              "      <td>앞쪽 팔 위와 손 뒤에 로션을 짜기. 등 뒤에 팔 대기. 자동차 와이퍼처럼 팔을 움...</td>\n",
              "    </tr>\n",
              "    <tr>\n",
              "      <th>4102</th>\n",
              "      <td>긴 머리 혼자 자르는 법</td>\n",
              "      <td>뒤에서 앞으로 커트하기</td>\n",
              "      <td>Cutting Back to Front</td>\n",
              "      <td>https://www.wikihow.com/Cut-Your-Own-Long-Hair</td>\n",
              "      <td>최근에 머리를 감아 원하지 않는다면 다시 감을 필요 없다. 그대신 분무기로 깨끗한 ...</td>\n",
              "      <td>머리가 깨끗하고 약간 젖은 상태여야 한다. 거울 앞에 선다. 적절한 가위잡기. 목 ...</td>\n",
              "    </tr>\n",
              "  </tbody>\n",
              "</table>\n",
              "</div>"
            ],
            "text/plain": [
              "                 title  ...                                            summary\n",
              "0         상자에 리본 묶는 방법  ...  상자 왼쪽 상단 구석에 끈을 두르기. 오른쪽 상단 구석에 끈을 두르기. 끈으로 오른...\n",
              "4104     긴 머리 혼자 자르는 법  ...  앞머리를 앞 쪽으로 모은다. 머리를 모두 정수리 쪽으로 모아 잡고 단단하게 비튼다....\n",
              "1881       우정팔찌 만드는 방법  ...  팔찌 차기 전에 고리에 끝을 넣기. 손목 안쪽의 팔찌 끝 부분에 테이프 붙이기. 고...\n",
              "3901          토가 입는 방법  ...  침대보를 반으로 접어주기. 가슴에 침대보 감아주기. 홀터 모양 만들어주기. 토가를 ...\n",
              "4103     긴 머리 혼자 자르는 법  ...  깨끗하게 말린 머리를 잘 빗은 상태에서 시작한다. 앞가르마 타기. 느슨하게 아래쪽에...\n",
              "8336  프렌치 스타일로 머리 땋는 법  ...                               머리를 준비한다. 땋기를 마무리한다.\n",
              "3903          토가 입는 방법  ...  침대보를 반으로 접어주기. 한 쪽을 허리에 감아주기. 뒤편에 남아있는 침대보도 앞쪽...\n",
              "4101     긴 머리 혼자 자르는 법  ...  정수리부터 전체적으로 잘 빗어주고 단단하게 비튼다. 원하는 만큼 자르기. 머리카락을...\n",
              "8810    자기 등에 로션바르는 방법  ...  앞쪽 팔 위와 손 뒤에 로션을 짜기. 등 뒤에 팔 대기. 자동차 와이퍼처럼 팔을 움...\n",
              "4102     긴 머리 혼자 자르는 법  ...  머리가 깨끗하고 약간 젖은 상태여야 한다. 거울 앞에 선다. 적절한 가위잡기. 목 ...\n",
              "\n",
              "[10 rows x 6 columns]"
            ]
          },
          "metadata": {},
          "execution_count": 20
        }
      ]
    },
    {
      "cell_type": "markdown",
      "metadata": {
        "id": "7OB5DRnUXGgx"
      },
      "source": [
        "시간 효율성을 위해 Gaussian Random Projection 사용 테스트"
      ]
    },
    {
      "cell_type": "code",
      "metadata": {
        "colab": {
          "base_uri": "https://localhost:8080/",
          "height": 565
        },
        "id": "_SyHCOu1iWp3",
        "outputId": "21e8e947-a22a-4db6-cfb7-0912677e1367"
      },
      "source": [
        "from annoy import AnnoyIndex\n",
        "from sklearn import random_projection\n",
        "\n",
        "proj = random_projection.GaussianRandomProjection(eps=0.4)\n",
        "projection_embed = proj.fit_transform(embedded_document)\n",
        "print(projection_embed.shape)\n",
        "\n",
        "length_of_vector = projection_embed.shape[1]\n",
        "annoy_index = AnnoyIndex(length_of_vector, 'angular')  \n",
        "\n",
        "for idx, doc_vec in tqdm.tqdm(enumerate(projection_embed)):\n",
        "    annoy_index.add_item(idx, doc_vec)\n",
        "\n",
        "annoy_index.build(10) \n",
        "\n",
        "n = 10\n",
        "idx = 0\n",
        "similar_idxs = annoy_index.get_nns_by_item(idx, n)\n",
        "df.iloc[similar_idxs, :]"
      ],
      "execution_count": null,
      "outputs": [
        {
          "output_type": "stream",
          "name": "stdout",
          "text": [
            "(12176, 641)\n"
          ]
        },
        {
          "output_type": "stream",
          "name": "stderr",
          "text": [
            "12176it [00:01, 11309.42it/s]\n"
          ]
        },
        {
          "output_type": "execute_result",
          "data": {
            "text/html": [
              "<div>\n",
              "<style scoped>\n",
              "    .dataframe tbody tr th:only-of-type {\n",
              "        vertical-align: middle;\n",
              "    }\n",
              "\n",
              "    .dataframe tbody tr th {\n",
              "        vertical-align: top;\n",
              "    }\n",
              "\n",
              "    .dataframe thead th {\n",
              "        text-align: right;\n",
              "    }\n",
              "</style>\n",
              "<table border=\"1\" class=\"dataframe\">\n",
              "  <thead>\n",
              "    <tr style=\"text-align: right;\">\n",
              "      <th></th>\n",
              "      <th>title</th>\n",
              "      <th>subtitle</th>\n",
              "      <th>english_section_name</th>\n",
              "      <th>english_url</th>\n",
              "      <th>document</th>\n",
              "      <th>summary</th>\n",
              "    </tr>\n",
              "  </thead>\n",
              "  <tbody>\n",
              "    <tr>\n",
              "      <th>0</th>\n",
              "      <td>상자에 리본 묶는 방법</td>\n",
              "      <td>대각선으로 묶기</td>\n",
              "      <td>Tying Ribbon Diagonally</td>\n",
              "      <td>https://www.wikihow.com/Tie-a-Ribbon-Around-a-Box</td>\n",
              "      <td>왼쪽 상단 구석에 10.16 - 20.32cm 정도의 끈을 남긴다. 끈 나머지 부분...</td>\n",
              "      <td>상자 왼쪽 상단 구석에 끈을 두르기. 오른쪽 상단 구석에 끈을 두르기. 끈으로 오른...</td>\n",
              "    </tr>\n",
              "    <tr>\n",
              "      <th>1881</th>\n",
              "      <td>우정팔찌 만드는 방법</td>\n",
              "      <td>혼자 팔찌 고정하기</td>\n",
              "      <td>Securing Your Bracelet By Yourself</td>\n",
              "      <td>https://www.wikihow.com/Tie-Friendship-Bracelets</td>\n",
              "      <td>끝에 고리가 있는 팔찌를 찬다면 먼저 땋아진 끝 부분 하나를 고리에 넣고, 그 땋은...</td>\n",
              "      <td>팔찌 차기 전에 고리에 끝을 넣기. 손목 안쪽의 팔찌 끝 부분에 테이프 붙이기. 고...</td>\n",
              "    </tr>\n",
              "    <tr>\n",
              "      <th>4104</th>\n",
              "      <td>긴 머리 혼자 자르는 법</td>\n",
              "      <td>비틀기로 픽시컷하기</td>\n",
              "      <td>Using the Twist Method for a Pixie Cut</td>\n",
              "      <td>https://www.wikihow.com/Cut-Your-Own-Long-Hair</td>\n",
              "      <td>앞머리를 좀더 길게 하려면 자르기 전에 빗으로 정수리 부분부터 머리카락을 내려 모은...</td>\n",
              "      <td>앞머리를 앞 쪽으로 모은다. 머리를 모두 정수리 쪽으로 모아 잡고 단단하게 비튼다....</td>\n",
              "    </tr>\n",
              "    <tr>\n",
              "      <th>8336</th>\n",
              "      <td>프렌치 스타일로 머리 땋는 법</td>\n",
              "      <td>클래식한 프렌치 스타일로 땋기</td>\n",
              "      <td>Creating a Classic French Braid</td>\n",
              "      <td>https://www.wikihow.com/French-Braid</td>\n",
              "      <td>머리를 빗어 엉킨 부분을 풀어주며 부드럽게 만들어 머리를 땋을 준비를 한다. 한 갈...</td>\n",
              "      <td>머리를 준비한다. 땋기를 마무리한다.</td>\n",
              "    </tr>\n",
              "    <tr>\n",
              "      <th>3901</th>\n",
              "      <td>토가 입는 방법</td>\n",
              "      <td>홀터넥 토가 두르는 방법</td>\n",
              "      <td>Wrapping a Halter Toga</td>\n",
              "      <td>https://www.wikihow.com/Wrap-a-Toga</td>\n",
              "      <td>서있는 상태에서 몸 앞쪽으로 침대보를 가로 방향으로 들어준다. 다리를 얼마나 가려줄...</td>\n",
              "      <td>침대보를 반으로 접어주기. 가슴에 침대보 감아주기. 홀터 모양 만들어주기. 토가를 ...</td>\n",
              "    </tr>\n",
              "    <tr>\n",
              "      <th>3903</th>\n",
              "      <td>토가 입는 방법</td>\n",
              "      <td>사리 스타일의 토가 두르는 방법</td>\n",
              "      <td>Wrapping a Saree-Inspired Toga</td>\n",
              "      <td>https://www.wikihow.com/Wrap-a-Toga</td>\n",
              "      <td>서서 침대보를 가로 방향이 되도록 몸 앞쪽으로 들어보자. 침대보의 양 끝을 잡고 토...</td>\n",
              "      <td>침대보를 반으로 접어주기. 한 쪽을 허리에 감아주기. 뒤편에 남아있는 침대보도 앞쪽...</td>\n",
              "    </tr>\n",
              "    <tr>\n",
              "      <th>7695</th>\n",
              "      <td>머리 땋는 방법</td>\n",
              "      <td>다섯 가닥 땋기 하는 방법</td>\n",
              "      <td>Doing a Five-Strand Braid</td>\n",
              "      <td>https://www.wikihow.com/Braid-Hair</td>\n",
              "      <td>가장 쉬운 방법은 왼손으로 가장 왼쪽에 있는 두 가닥을 잡고, 오른손으로 가장 오른...</td>\n",
              "      <td>양손으로 머리가닥 잡기. 가장 왼쪽에 있는 걸 중간으로 보내기.</td>\n",
              "    </tr>\n",
              "    <tr>\n",
              "      <th>4101</th>\n",
              "      <td>긴 머리 혼자 자르는 법</td>\n",
              "      <td>비틀어 커트하기</td>\n",
              "      <td>Using the Twist Method</td>\n",
              "      <td>https://www.wikihow.com/Cut-Your-Own-Long-Hair</td>\n",
              "      <td>이 커트는 비스듬하게 각이 생기하므로 A라인 보브단발을 원한다면 최적의 스타일이다....</td>\n",
              "      <td>정수리부터 전체적으로 잘 빗어주고 단단하게 비튼다. 원하는 만큼 자르기. 머리카락을...</td>\n",
              "    </tr>\n",
              "    <tr>\n",
              "      <th>1883</th>\n",
              "      <td>우정팔찌 만드는 방법</td>\n",
              "      <td>느슨해진 끝 부분 같이 묶기</td>\n",
              "      <td>Tying Two Loose Ends Together</td>\n",
              "      <td>https://www.wikihow.com/Tie-Friendship-Bracelets</td>\n",
              "      <td>풀어진 실 끝 부분을 각각 땋은 다음 매듭을 짓는다. 그 다음, 땋은 부분을 서로 ...</td>\n",
              "      <td>끝 부분을 같이 묶어 매듭짓기. 양 끝 부분을 땋고 묶은 다음 양쪽에 고정하기. 양...</td>\n",
              "    </tr>\n",
              "    <tr>\n",
              "      <th>10362</th>\n",
              "      <td>하루 만에 다리 찢는 방법</td>\n",
              "      <td>다리 찢기 하는 법</td>\n",
              "      <td>Doing the Split</td>\n",
              "      <td>https://www.wikihow.com/Do-the-Splits-in-One-Day</td>\n",
              "      <td>요가 블록과 베개 받침을 이용하여 다리 찢는 자세를 취하는 데 도움을 받도록 합니다...</td>\n",
              "      <td>요가 블록은 양옆에, 베개 받침은 요가 매트 중심에 배치합니다.</td>\n",
              "    </tr>\n",
              "  </tbody>\n",
              "</table>\n",
              "</div>"
            ],
            "text/plain": [
              "                  title  ...                                            summary\n",
              "0          상자에 리본 묶는 방법  ...  상자 왼쪽 상단 구석에 끈을 두르기. 오른쪽 상단 구석에 끈을 두르기. 끈으로 오른...\n",
              "1881        우정팔찌 만드는 방법  ...  팔찌 차기 전에 고리에 끝을 넣기. 손목 안쪽의 팔찌 끝 부분에 테이프 붙이기. 고...\n",
              "4104      긴 머리 혼자 자르는 법  ...  앞머리를 앞 쪽으로 모은다. 머리를 모두 정수리 쪽으로 모아 잡고 단단하게 비튼다....\n",
              "8336   프렌치 스타일로 머리 땋는 법  ...                               머리를 준비한다. 땋기를 마무리한다.\n",
              "3901           토가 입는 방법  ...  침대보를 반으로 접어주기. 가슴에 침대보 감아주기. 홀터 모양 만들어주기. 토가를 ...\n",
              "3903           토가 입는 방법  ...  침대보를 반으로 접어주기. 한 쪽을 허리에 감아주기. 뒤편에 남아있는 침대보도 앞쪽...\n",
              "7695           머리 땋는 방법  ...                양손으로 머리가닥 잡기. 가장 왼쪽에 있는 걸 중간으로 보내기.\n",
              "4101      긴 머리 혼자 자르는 법  ...  정수리부터 전체적으로 잘 빗어주고 단단하게 비튼다. 원하는 만큼 자르기. 머리카락을...\n",
              "1883        우정팔찌 만드는 방법  ...  끝 부분을 같이 묶어 매듭짓기. 양 끝 부분을 땋고 묶은 다음 양쪽에 고정하기. 양...\n",
              "10362    하루 만에 다리 찢는 방법  ...                요가 블록은 양옆에, 베개 받침은 요가 매트 중심에 배치합니다.\n",
              "\n",
              "[10 rows x 6 columns]"
            ]
          },
          "metadata": {},
          "execution_count": 23
        }
      ]
    },
    {
      "cell_type": "markdown",
      "metadata": {
        "id": "3mHO3QkdxOQM"
      },
      "source": [
        "random projection 과 raw vector 모두, `df.document` 보다는 `df.summary`를 사용했을 때 유사도 검색 결과가 좋았음."
      ]
    },
    {
      "cell_type": "code",
      "metadata": {
        "id": "xBVTuO4m4QaS"
      },
      "source": [
        "embedded_summary = embed(df.summary)\n",
        "embedded_summary = embedded_summary.numpy()"
      ],
      "execution_count": null,
      "outputs": []
    },
    {
      "cell_type": "code",
      "metadata": {
        "colab": {
          "base_uri": "https://localhost:8080/",
          "height": 565
        },
        "id": "qNzWTJd1bWi3",
        "outputId": "f750bc27-5be2-45f9-a909-6bb393bc73a7"
      },
      "source": [
        "# df.summary -> avg -> random projection (eps=0.4)\n",
        "\n",
        "from annoy import AnnoyIndex\n",
        "from sklearn import random_projection\n",
        "\n",
        "proj = random_projection.GaussianRandomProjection(eps=0.4)\n",
        "projection_embed = proj.fit_transform(embedded_summary)\n",
        "print(projection_embed.shape)\n",
        "\n",
        "length_of_vector = projection_embed.shape[1]\n",
        "annoy_index = AnnoyIndex(length_of_vector, 'angular')  \n",
        "\n",
        "for idx, doc_vec in tqdm.tqdm(enumerate(projection_embed)):\n",
        "    annoy_index.add_item(idx, doc_vec)\n",
        "\n",
        "annoy_index.build(100) \n",
        "\n",
        "n = 20\n",
        "idx = 1727\n",
        "similar_idxs = annoy_index.get_nns_by_item(idx, n)\n",
        "df.iloc[similar_idxs, :]"
      ],
      "execution_count": null,
      "outputs": [
        {
          "output_type": "stream",
          "name": "stdout",
          "text": [
            "(12176, 641)\n"
          ]
        },
        {
          "output_type": "stream",
          "name": "stderr",
          "text": [
            "12176it [00:01, 10128.85it/s]\n"
          ]
        },
        {
          "output_type": "execute_result",
          "data": {
            "text/html": [
              "<div>\n",
              "<style scoped>\n",
              "    .dataframe tbody tr th:only-of-type {\n",
              "        vertical-align: middle;\n",
              "    }\n",
              "\n",
              "    .dataframe tbody tr th {\n",
              "        vertical-align: top;\n",
              "    }\n",
              "\n",
              "    .dataframe thead th {\n",
              "        text-align: right;\n",
              "    }\n",
              "</style>\n",
              "<table border=\"1\" class=\"dataframe\">\n",
              "  <thead>\n",
              "    <tr style=\"text-align: right;\">\n",
              "      <th></th>\n",
              "      <th>title</th>\n",
              "      <th>subtitle</th>\n",
              "      <th>english_section_name</th>\n",
              "      <th>english_url</th>\n",
              "      <th>document</th>\n",
              "      <th>summary</th>\n",
              "    </tr>\n",
              "  </thead>\n",
              "  <tbody>\n",
              "    <tr>\n",
              "      <th>1727</th>\n",
              "      <td>장미수 만드는 방법</td>\n",
              "      <td>으깬 장미 꽃잎으로 만드는 장미수</td>\n",
              "      <td>Making Rosewater with Crushed Petals</td>\n",
              "      <td>https://www.wikihow.com/Make-Rosewater</td>\n",
              "      <td>한 무더기는 으깨고 다른 한 무더기는 나중에 사용할 것이다. 장미 꽃잎을 으깨면 즙...</td>\n",
              "      <td>장미 꽃잎을 두 무더기로 나누기. 절구로 장미 꽃잎 으깨기. 즙과 으깬 꽃잎을 세라...</td>\n",
              "    </tr>\n",
              "    <tr>\n",
              "      <th>1726</th>\n",
              "      <td>장미수 만드는 방법</td>\n",
              "      <td>싱싱한 장미 꽃잎으로 만드는 장미수</td>\n",
              "      <td>Making Rosewater with Fresh Petals</td>\n",
              "      <td>https://www.wikihow.com/Make-Rosewater</td>\n",
              "      <td>장미가 싱싱할수록 질좋은 장미수가 만들어진다. 농약을 치지 않은 유기농 장미를 사용...</td>\n",
              "      <td>싱싱하고 향이 좋은 장미를 골라 물로 씻기. 꽃잎을 떼어내고 나머지는 버리기. 냄비...</td>\n",
              "    </tr>\n",
              "    <tr>\n",
              "      <th>7732</th>\n",
              "      <td>기침 시럽 만드는 법</td>\n",
              "      <td>허브 기침 시럽</td>\n",
              "      <td>Herbal Cough Syrup</td>\n",
              "      <td>https://www.wikihow.com/Make-Cough-Syrup</td>\n",
              "      <td>인터넷에서 살 수도 있다. 나머지 재료들은 마트에서 대부분 구매가 가능하다.  카모...</td>\n",
              "      <td>카모마일 꽃과 마시멜로우 뿌리를 차나 허브 가게에서 구매하기. 병 깨끗이 씻기. 프...</td>\n",
              "    </tr>\n",
              "    <tr>\n",
              "      <th>1729</th>\n",
              "      <td>장미수 만드는 방법</td>\n",
              "      <td>말린 장미 꽃잎으로 만드는 장미수</td>\n",
              "      <td>Making Rosewater with Dried Petals</td>\n",
              "      <td>https://www.wikihow.com/Make-Rosewater</td>\n",
              "      <td>말린 장미 꽃잎, 뜨거운 물, 유리병 2개, 체가 필요하다. 요리용 장미수를 만들고...</td>\n",
              "      <td>준비물 준비하기. 유리병 1개에 말린 장미 꽃잎 넣기. 뜨겁지만 팔팔 끓지 않는 물...</td>\n",
              "    </tr>\n",
              "    <tr>\n",
              "      <th>9916</th>\n",
              "      <td>머리카락에 피마자유 바르는 방법</td>\n",
              "      <td>피마자유 준비하기</td>\n",
              "      <td>Preparing the Oil</td>\n",
              "      <td>https://www.wikihow.com/Apply-Castor-Oil-for-Hair</td>\n",
              "      <td>머리카락에 피마자유를 바르는 것은 쉬워 보인다. 하지만 몇 가지 물건이 있으면 피마...</td>\n",
              "      <td>용품 준비하기. 파마자유를 다른 오일로 희석시키기. 에센셜 오일 몇 방울 넣어 피마...</td>\n",
              "    </tr>\n",
              "    <tr>\n",
              "      <th>8913</th>\n",
              "      <td>발을 따뜻하게 유지하는 법</td>\n",
              "      <td>열을 가하기</td>\n",
              "      <td>Applying Heat</td>\n",
              "      <td>https://www.wikihow.com/Keep-Your-Feet-Warm</td>\n",
              "      <td>건조기에 양말을 넣고 10분 정도 건조기를 가동한 후 양말을 신어보자. 건조기 열기...</td>\n",
              "      <td>건조기에 양말을 넣기. 따뜻한 물에 발을 담그기. 침대에서 사용할 수 있는 전자 담...</td>\n",
              "    </tr>\n",
              "    <tr>\n",
              "      <th>2210</th>\n",
              "      <td>브라우니 만드는 법</td>\n",
              "      <td>간단한 브라우니 제작법</td>\n",
              "      <td>Simple Brownies</td>\n",
              "      <td>https://www.wikihow.com/Make-Brownies</td>\n",
              "      <td>원한다면 알루미늄 호일로 위 사진처럼 트레이를 감싸도 된다. 버터가 녹는 동안 아...</td>\n",
              "      <td>오븐 190도로 예열하기. 베이킹 트레이에 가볍게 기름칠 하기(사이즈는 23 x 2...</td>\n",
              "    </tr>\n",
              "    <tr>\n",
              "      <th>9667</th>\n",
              "      <td>향수 만드는 방법</td>\n",
              "      <td>신선한 꽃, 잎, 허브 사용하기</td>\n",
              "      <td>Using Fresh Flowers, Leaves or Herbs</td>\n",
              "      <td>https://www.wikihow.com/Make-Perfume</td>\n",
              "      <td>병의 종류는 중요하지 않지만 “깨끗한 유리병”이어야 한다. 또한 병에 꼭 맞는 뚜껑...</td>\n",
              "      <td>깨끗한 유리병 준비하기. 향이 없는 오일 마련하기. 좋은 향의 꽃, 잎, 허브 모아...</td>\n",
              "    </tr>\n",
              "    <tr>\n",
              "      <th>10471</th>\n",
              "      <td>증류수 만드는 방법</td>\n",
              "      <td>유리 그릇으로 수돗물 증류하기</td>\n",
              "      <td>Distill Tap Water with a Glass Bowl</td>\n",
              "      <td>https://www.wikihow.com/Make-Distilled-Water</td>\n",
              "      <td>유리 그릇이 물에 떠야 한다. 유리 그릇이 냄비 바닥에 가라앉으면 안 된다. 유리...</td>\n",
              "      <td>20리터짜리 스테인리스강 냄비에 수돗물을 절반정도 채우기. 유리 그릇을 물에 띄우기...</td>\n",
              "    </tr>\n",
              "    <tr>\n",
              "      <th>8698</th>\n",
              "      <td>채식용 타코 만드는 방법</td>\n",
              "      <td>렌틸콩 타코</td>\n",
              "      <td>Lentil Vegan Tacos</td>\n",
              "      <td>https://www.wikihow.com/Make-Vegan-Tacos</td>\n",
              "      <td>부드러워질 때까지 익힌다. 30초 더 볶는다. 뚜껑을 덮지 말고 10분 가량 끓인...</td>\n",
              "      <td>커다란 프라이팬에 오일을 두르고 중불 내지 센불에 놓기. 적양파를 1/2컵만 넣고 ...</td>\n",
              "    </tr>\n",
              "  </tbody>\n",
              "</table>\n",
              "</div>"
            ],
            "text/plain": [
              "                   title  ...                                            summary\n",
              "1727          장미수 만드는 방법  ...  장미 꽃잎을 두 무더기로 나누기. 절구로 장미 꽃잎 으깨기. 즙과 으깬 꽃잎을 세라...\n",
              "1726          장미수 만드는 방법  ...  싱싱하고 향이 좋은 장미를 골라 물로 씻기. 꽃잎을 떼어내고 나머지는 버리기. 냄비...\n",
              "7732         기침 시럽 만드는 법  ...  카모마일 꽃과 마시멜로우 뿌리를 차나 허브 가게에서 구매하기. 병 깨끗이 씻기. 프...\n",
              "1729          장미수 만드는 방법  ...  준비물 준비하기. 유리병 1개에 말린 장미 꽃잎 넣기. 뜨겁지만 팔팔 끓지 않는 물...\n",
              "9916   머리카락에 피마자유 바르는 방법  ...  용품 준비하기. 파마자유를 다른 오일로 희석시키기. 에센셜 오일 몇 방울 넣어 피마...\n",
              "8913      발을 따뜻하게 유지하는 법  ...  건조기에 양말을 넣기. 따뜻한 물에 발을 담그기. 침대에서 사용할 수 있는 전자 담...\n",
              "2210          브라우니 만드는 법  ...  오븐 190도로 예열하기. 베이킹 트레이에 가볍게 기름칠 하기(사이즈는 23 x 2...\n",
              "9667           향수 만드는 방법  ...  깨끗한 유리병 준비하기. 향이 없는 오일 마련하기. 좋은 향의 꽃, 잎, 허브 모아...\n",
              "10471         증류수 만드는 방법  ...  20리터짜리 스테인리스강 냄비에 수돗물을 절반정도 채우기. 유리 그릇을 물에 띄우기...\n",
              "8698       채식용 타코 만드는 방법  ...  커다란 프라이팬에 오일을 두르고 중불 내지 센불에 놓기. 적양파를 1/2컵만 넣고 ...\n",
              "\n",
              "[10 rows x 6 columns]"
            ]
          },
          "metadata": {},
          "execution_count": 97
        }
      ]
    },
    {
      "cell_type": "markdown",
      "metadata": {
        "id": "2XrZH51nXko9"
      },
      "source": [
        "동일 주제의 글들을 잘 가져오며, 비슷한 주제 (천연요법, 조리, 제조) 의 글을 골라내는 것을 알 수 있음"
      ]
    },
    {
      "cell_type": "code",
      "metadata": {
        "colab": {
          "base_uri": "https://localhost:8080/",
          "height": 669
        },
        "id": "VqIRWKBbLq7I",
        "outputId": "9cfbdb45-0452-4531-b361-c3f95ef95619"
      },
      "source": [
        "n = 20\n",
        "idx = 1727\n",
        "similar_idxs = annoy_index.get_nns_by_item(idx, n)\n",
        "df.iloc[similar_idxs, [0,1,4]]"
      ],
      "execution_count": null,
      "outputs": [
        {
          "output_type": "execute_result",
          "data": {
            "text/html": [
              "<div>\n",
              "<style scoped>\n",
              "    .dataframe tbody tr th:only-of-type {\n",
              "        vertical-align: middle;\n",
              "    }\n",
              "\n",
              "    .dataframe tbody tr th {\n",
              "        vertical-align: top;\n",
              "    }\n",
              "\n",
              "    .dataframe thead th {\n",
              "        text-align: right;\n",
              "    }\n",
              "</style>\n",
              "<table border=\"1\" class=\"dataframe\">\n",
              "  <thead>\n",
              "    <tr style=\"text-align: right;\">\n",
              "      <th></th>\n",
              "      <th>title</th>\n",
              "      <th>subtitle</th>\n",
              "      <th>document</th>\n",
              "    </tr>\n",
              "  </thead>\n",
              "  <tbody>\n",
              "    <tr>\n",
              "      <th>1727</th>\n",
              "      <td>장미수 만드는 방법</td>\n",
              "      <td>으깬 장미 꽃잎으로 만드는 장미수</td>\n",
              "      <td>한 무더기는 으깨고 다른 한 무더기는 나중에 사용할 것이다. 장미 꽃잎을 으깨면 즙...</td>\n",
              "    </tr>\n",
              "    <tr>\n",
              "      <th>1726</th>\n",
              "      <td>장미수 만드는 방법</td>\n",
              "      <td>싱싱한 장미 꽃잎으로 만드는 장미수</td>\n",
              "      <td>장미가 싱싱할수록 질좋은 장미수가 만들어진다. 농약을 치지 않은 유기농 장미를 사용...</td>\n",
              "    </tr>\n",
              "    <tr>\n",
              "      <th>7732</th>\n",
              "      <td>기침 시럽 만드는 법</td>\n",
              "      <td>허브 기침 시럽</td>\n",
              "      <td>인터넷에서 살 수도 있다. 나머지 재료들은 마트에서 대부분 구매가 가능하다.  카모...</td>\n",
              "    </tr>\n",
              "    <tr>\n",
              "      <th>1729</th>\n",
              "      <td>장미수 만드는 방법</td>\n",
              "      <td>말린 장미 꽃잎으로 만드는 장미수</td>\n",
              "      <td>말린 장미 꽃잎, 뜨거운 물, 유리병 2개, 체가 필요하다. 요리용 장미수를 만들고...</td>\n",
              "    </tr>\n",
              "    <tr>\n",
              "      <th>9916</th>\n",
              "      <td>머리카락에 피마자유 바르는 방법</td>\n",
              "      <td>피마자유 준비하기</td>\n",
              "      <td>머리카락에 피마자유를 바르는 것은 쉬워 보인다. 하지만 몇 가지 물건이 있으면 피마...</td>\n",
              "    </tr>\n",
              "    <tr>\n",
              "      <th>8913</th>\n",
              "      <td>발을 따뜻하게 유지하는 법</td>\n",
              "      <td>열을 가하기</td>\n",
              "      <td>건조기에 양말을 넣고 10분 정도 건조기를 가동한 후 양말을 신어보자. 건조기 열기...</td>\n",
              "    </tr>\n",
              "    <tr>\n",
              "      <th>2210</th>\n",
              "      <td>브라우니 만드는 법</td>\n",
              "      <td>간단한 브라우니 제작법</td>\n",
              "      <td>원한다면 알루미늄 호일로 위 사진처럼 트레이를 감싸도 된다. 버터가 녹는 동안 아...</td>\n",
              "    </tr>\n",
              "    <tr>\n",
              "      <th>9667</th>\n",
              "      <td>향수 만드는 방법</td>\n",
              "      <td>신선한 꽃, 잎, 허브 사용하기</td>\n",
              "      <td>병의 종류는 중요하지 않지만 “깨끗한 유리병”이어야 한다. 또한 병에 꼭 맞는 뚜껑...</td>\n",
              "    </tr>\n",
              "    <tr>\n",
              "      <th>10471</th>\n",
              "      <td>증류수 만드는 방법</td>\n",
              "      <td>유리 그릇으로 수돗물 증류하기</td>\n",
              "      <td>유리 그릇이 물에 떠야 한다. 유리 그릇이 냄비 바닥에 가라앉으면 안 된다. 유리...</td>\n",
              "    </tr>\n",
              "    <tr>\n",
              "      <th>8698</th>\n",
              "      <td>채식용 타코 만드는 방법</td>\n",
              "      <td>렌틸콩 타코</td>\n",
              "      <td>부드러워질 때까지 익힌다. 30초 더 볶는다. 뚜껑을 덮지 말고 10분 가량 끓인...</td>\n",
              "    </tr>\n",
              "    <tr>\n",
              "      <th>2205</th>\n",
              "      <td>대구포 조리하는 방법</td>\n",
              "      <td>오븐에 굽기</td>\n",
              "      <td>흐르는 물에 몇 분 동안 대구포를 씻고 종이 타월로 톡톡 두드려 물기를 제거한다. ...</td>\n",
              "    </tr>\n",
              "    <tr>\n",
              "      <th>8695</th>\n",
              "      <td>채식용 타코 만드는 방법</td>\n",
              "      <td>블랙빈 타코</td>\n",
              "      <td>10-15분 가량 볶는다. 양파가 노릇노릇하고 부드러워야 한다.  나무 숟가락으로...</td>\n",
              "    </tr>\n",
              "    <tr>\n",
              "      <th>408</th>\n",
              "      <td>핫 초콜릿 팬케이크 만드는 방법</td>\n",
              "      <td>팬케이크 만들기</td>\n",
              "      <td>전기 번들은 180도로 예열한다. 중간 크기 그릇에 핫 초콜릿, 바닐라, 계란을 넣...</td>\n",
              "    </tr>\n",
              "    <tr>\n",
              "      <th>12060</th>\n",
              "      <td>브라운 그레이비 만드는 방법</td>\n",
              "      <td>고기 기름으로 그레이비 만들기</td>\n",
              "      <td>고기 기름으로 만든 그레이비가 가장 맛있다. 고기를 다 구우면 육즙과 지방이 나온다...</td>\n",
              "    </tr>\n",
              "    <tr>\n",
              "      <th>9380</th>\n",
              "      <td>천연요법으로 머리카락을 곧게 펴는 방법</td>\n",
              "      <td>머리카락을 밤새 휘감고 있기</td>\n",
              "      <td>컨디셔너가 진득하거나 촉촉할수록 머리카락에 무게가 더해져 곱슬기가 덜해지고 길고 곧...</td>\n",
              "    </tr>\n",
              "    <tr>\n",
              "      <th>5462</th>\n",
              "      <td>브로콜리 조리하는 방법</td>\n",
              "      <td>브로콜리 데치기</td>\n",
              "      <td>북실북실한 브로콜리 송이를 줄기에서 분리한다. 브로콜리 줄기는 먹을 수 있다. 잎을...</td>\n",
              "    </tr>\n",
              "    <tr>\n",
              "      <th>3462</th>\n",
              "      <td>퀴퀴한 냄새 없애는 방법</td>\n",
              "      <td>눅눅한 장소에서 나는 냄새 제거하기</td>\n",
              "      <td>곰팡이는 서늘하고, 축축하고, 어두운 장소를 좋아한다. 환풍기나 제습기를 사용하거나...</td>\n",
              "    </tr>\n",
              "    <tr>\n",
              "      <th>7729</th>\n",
              "      <td>기침 시럽 만드는 법</td>\n",
              "      <td>꿀 기침 시럽</td>\n",
              "      <td>작은 프라이팬에 세 재료를 넣고 섞도록 하자. 생강 가루가 아닌 신선한 생강을 사용...</td>\n",
              "    </tr>\n",
              "    <tr>\n",
              "      <th>8699</th>\n",
              "      <td>채식용 타코 만드는 방법</td>\n",
              "      <td>두부 타코</td>\n",
              "      <td>두부를 잘라서 종이 타월에 올려둔다. 그 위에 종이 타월을 덮고 무거운 프라이팬을 ...</td>\n",
              "    </tr>\n",
              "    <tr>\n",
              "      <th>1803</th>\n",
              "      <td>타말리 찌는 방법</td>\n",
              "      <td>알루미늄 포일 사용하기</td>\n",
              "      <td>포일을 뜯어서 공 모양으로 구겨준다. 지름이 5.1cm 정도 될 때까지 구겨준다. ...</td>\n",
              "    </tr>\n",
              "  </tbody>\n",
              "</table>\n",
              "</div>"
            ],
            "text/plain": [
              "                       title  ...                                           document\n",
              "1727              장미수 만드는 방법  ...  한 무더기는 으깨고 다른 한 무더기는 나중에 사용할 것이다. 장미 꽃잎을 으깨면 즙...\n",
              "1726              장미수 만드는 방법  ...  장미가 싱싱할수록 질좋은 장미수가 만들어진다. 농약을 치지 않은 유기농 장미를 사용...\n",
              "7732             기침 시럽 만드는 법  ...  인터넷에서 살 수도 있다. 나머지 재료들은 마트에서 대부분 구매가 가능하다.  카모...\n",
              "1729              장미수 만드는 방법  ...  말린 장미 꽃잎, 뜨거운 물, 유리병 2개, 체가 필요하다. 요리용 장미수를 만들고...\n",
              "9916       머리카락에 피마자유 바르는 방법  ...  머리카락에 피마자유를 바르는 것은 쉬워 보인다. 하지만 몇 가지 물건이 있으면 피마...\n",
              "8913          발을 따뜻하게 유지하는 법  ...  건조기에 양말을 넣고 10분 정도 건조기를 가동한 후 양말을 신어보자. 건조기 열기...\n",
              "2210              브라우니 만드는 법  ...   원한다면 알루미늄 호일로 위 사진처럼 트레이를 감싸도 된다. 버터가 녹는 동안 아...\n",
              "9667               향수 만드는 방법  ...  병의 종류는 중요하지 않지만 “깨끗한 유리병”이어야 한다. 또한 병에 꼭 맞는 뚜껑...\n",
              "10471             증류수 만드는 방법  ...   유리 그릇이 물에 떠야 한다. 유리 그릇이 냄비 바닥에 가라앉으면 안 된다. 유리...\n",
              "8698           채식용 타코 만드는 방법  ...   부드러워질 때까지 익힌다. 30초 더 볶는다. 뚜껑을 덮지 말고 10분 가량 끓인...\n",
              "2205             대구포 조리하는 방법  ...  흐르는 물에 몇 분 동안 대구포를 씻고 종이 타월로 톡톡 두드려 물기를 제거한다. ...\n",
              "8695           채식용 타코 만드는 방법  ...   10-15분 가량 볶는다. 양파가 노릇노릇하고 부드러워야 한다.  나무 숟가락으로...\n",
              "408        핫 초콜릿 팬케이크 만드는 방법  ...  전기 번들은 180도로 예열한다. 중간 크기 그릇에 핫 초콜릿, 바닐라, 계란을 넣...\n",
              "12060        브라운 그레이비 만드는 방법  ...  고기 기름으로 만든 그레이비가 가장 맛있다. 고기를 다 구우면 육즙과 지방이 나온다...\n",
              "9380   천연요법으로 머리카락을 곧게 펴는 방법  ...  컨디셔너가 진득하거나 촉촉할수록 머리카락에 무게가 더해져 곱슬기가 덜해지고 길고 곧...\n",
              "5462            브로콜리 조리하는 방법  ...  북실북실한 브로콜리 송이를 줄기에서 분리한다. 브로콜리 줄기는 먹을 수 있다. 잎을...\n",
              "3462           퀴퀴한 냄새 없애는 방법  ...  곰팡이는 서늘하고, 축축하고, 어두운 장소를 좋아한다. 환풍기나 제습기를 사용하거나...\n",
              "7729             기침 시럽 만드는 법  ...  작은 프라이팬에 세 재료를 넣고 섞도록 하자. 생강 가루가 아닌 신선한 생강을 사용...\n",
              "8699           채식용 타코 만드는 방법  ...  두부를 잘라서 종이 타월에 올려둔다. 그 위에 종이 타월을 덮고 무거운 프라이팬을 ...\n",
              "1803               타말리 찌는 방법  ...  포일을 뜯어서 공 모양으로 구겨준다. 지름이 5.1cm 정도 될 때까지 구겨준다. ...\n",
              "\n",
              "[20 rows x 3 columns]"
            ]
          },
          "metadata": {},
          "execution_count": 105
        }
      ]
    },
    {
      "cell_type": "code",
      "metadata": {
        "colab": {
          "base_uri": "https://localhost:8080/",
          "height": 204
        },
        "id": "ROvTfrKxL9Nu",
        "outputId": "32086b97-540e-455a-db71-3122de6b3c20"
      },
      "source": [
        "n = 5\n",
        "idx = 0\n",
        "similar_idxs = annoy_index.get_nns_by_item(idx, n)\n",
        "df.iloc[similar_idxs, [0,1,4]]"
      ],
      "execution_count": null,
      "outputs": [
        {
          "output_type": "execute_result",
          "data": {
            "text/html": [
              "<div>\n",
              "<style scoped>\n",
              "    .dataframe tbody tr th:only-of-type {\n",
              "        vertical-align: middle;\n",
              "    }\n",
              "\n",
              "    .dataframe tbody tr th {\n",
              "        vertical-align: top;\n",
              "    }\n",
              "\n",
              "    .dataframe thead th {\n",
              "        text-align: right;\n",
              "    }\n",
              "</style>\n",
              "<table border=\"1\" class=\"dataframe\">\n",
              "  <thead>\n",
              "    <tr style=\"text-align: right;\">\n",
              "      <th></th>\n",
              "      <th>title</th>\n",
              "      <th>subtitle</th>\n",
              "      <th>document</th>\n",
              "    </tr>\n",
              "  </thead>\n",
              "  <tbody>\n",
              "    <tr>\n",
              "      <th>0</th>\n",
              "      <td>상자에 리본 묶는 방법</td>\n",
              "      <td>대각선으로 묶기</td>\n",
              "      <td>왼쪽 상단 구석에 10.16 - 20.32cm 정도의 끈을 남긴다. 끈 나머지 부분...</td>\n",
              "    </tr>\n",
              "    <tr>\n",
              "      <th>1</th>\n",
              "      <td>상자에 리본 묶는 방법</td>\n",
              "      <td>기본으로 묶기</td>\n",
              "      <td>10.16 - 20.32cm 정도는 밖으로 나오게 남겨둔다. 끈 끝이 너무 짧은 것...</td>\n",
              "    </tr>\n",
              "    <tr>\n",
              "      <th>2</th>\n",
              "      <td>상자에 리본 묶는 방법</td>\n",
              "      <td>엮어 묶기</td>\n",
              "      <td>끈을 상자 길이에 5.08cm를 더한 길이로 네 개를 잘라야 한다.  색다른 느낌을...</td>\n",
              "    </tr>\n",
              "    <tr>\n",
              "      <th>10676</th>\n",
              "      <td>팔꿈치 핥는 방법</td>\n",
              "      <td>팔꿈치 구부리기</td>\n",
              "      <td>먼저 고개를 천천히 좌우로 돌려 근육의 긴장을 풀어준다. 그리고 어깨를 몸 주위로 ...</td>\n",
              "    </tr>\n",
              "    <tr>\n",
              "      <th>9341</th>\n",
              "      <td>데드버그 운동하는 방법</td>\n",
              "      <td>일반적인 데드버그 운동하기</td>\n",
              "      <td>앉아서 배 근육에 힘을 주고 배가 살짝 들어갈 수 있도록 하자. 일부 피트니스 전문...</td>\n",
              "    </tr>\n",
              "  </tbody>\n",
              "</table>\n",
              "</div>"
            ],
            "text/plain": [
              "              title  ...                                           document\n",
              "0      상자에 리본 묶는 방법  ...  왼쪽 상단 구석에 10.16 - 20.32cm 정도의 끈을 남긴다. 끈 나머지 부분...\n",
              "1      상자에 리본 묶는 방법  ...  10.16 - 20.32cm 정도는 밖으로 나오게 남겨둔다. 끈 끝이 너무 짧은 것...\n",
              "2      상자에 리본 묶는 방법  ...  끈을 상자 길이에 5.08cm를 더한 길이로 네 개를 잘라야 한다.  색다른 느낌을...\n",
              "10676     팔꿈치 핥는 방법  ...  먼저 고개를 천천히 좌우로 돌려 근육의 긴장을 풀어준다. 그리고 어깨를 몸 주위로 ...\n",
              "9341   데드버그 운동하는 방법  ...  앉아서 배 근육에 힘을 주고 배가 살짝 들어갈 수 있도록 하자. 일부 피트니스 전문...\n",
              "\n",
              "[5 rows x 3 columns]"
            ]
          },
          "metadata": {},
          "execution_count": 104
        }
      ]
    },
    {
      "cell_type": "markdown",
      "metadata": {
        "id": "0TdFEqDLD5Bz"
      },
      "source": [
        "## **KoBART 테스트**"
      ]
    },
    {
      "cell_type": "code",
      "metadata": {
        "colab": {
          "base_uri": "https://localhost:8080/"
        },
        "id": "WxNZQB1n5aog",
        "outputId": "7bde6f81-f423-4c1f-f7f1-af02ccddfe25"
      },
      "source": [
        "# Must restart when using this : huggingface transformers version doesn't match\n",
        "!pip install git+https://github.com/SKT-AI/KoBART"
      ],
      "execution_count": 1,
      "outputs": [
        {
          "output_type": "stream",
          "name": "stdout",
          "text": [
            "Collecting git+https://github.com/SKT-AI/KoBART\n",
            "  Cloning https://github.com/SKT-AI/KoBART to /tmp/pip-req-build-rix6zjbl\n",
            "  Running command git clone -q https://github.com/SKT-AI/KoBART /tmp/pip-req-build-rix6zjbl\n",
            "Collecting transformers==4.3.3\n",
            "  Downloading transformers-4.3.3-py3-none-any.whl (1.9 MB)\n",
            "\u001b[K     |████████████████████████████████| 1.9 MB 8.4 MB/s \n",
            "\u001b[?25hCollecting torch==1.7.1\n",
            "  Downloading torch-1.7.1-cp37-cp37m-manylinux1_x86_64.whl (776.8 MB)\n",
            "\u001b[K     |████████████████████████████████| 776.8 MB 16 kB/s \n",
            "\u001b[?25hRequirement already satisfied: typing-extensions in /usr/local/lib/python3.7/dist-packages (from torch==1.7.1->kobart==0.4) (3.7.4.3)\n",
            "Requirement already satisfied: numpy in /usr/local/lib/python3.7/dist-packages (from torch==1.7.1->kobart==0.4) (1.19.5)\n",
            "Requirement already satisfied: tqdm>=4.27 in /usr/local/lib/python3.7/dist-packages (from transformers==4.3.3->kobart==0.4) (4.62.2)\n",
            "Requirement already satisfied: requests in /usr/local/lib/python3.7/dist-packages (from transformers==4.3.3->kobart==0.4) (2.23.0)\n",
            "Requirement already satisfied: importlib-metadata in /usr/local/lib/python3.7/dist-packages (from transformers==4.3.3->kobart==0.4) (4.8.1)\n",
            "Requirement already satisfied: regex!=2019.12.17 in /usr/local/lib/python3.7/dist-packages (from transformers==4.3.3->kobart==0.4) (2019.12.20)\n",
            "Requirement already satisfied: packaging in /usr/local/lib/python3.7/dist-packages (from transformers==4.3.3->kobart==0.4) (21.0)\n",
            "Collecting tokenizers<0.11,>=0.10.1\n",
            "  Downloading tokenizers-0.10.3-cp37-cp37m-manylinux_2_5_x86_64.manylinux1_x86_64.manylinux_2_12_x86_64.manylinux2010_x86_64.whl (3.3 MB)\n",
            "\u001b[K     |████████████████████████████████| 3.3 MB 47.8 MB/s \n",
            "\u001b[?25hRequirement already satisfied: filelock in /usr/local/lib/python3.7/dist-packages (from transformers==4.3.3->kobart==0.4) (3.0.12)\n",
            "Collecting sacremoses\n",
            "  Downloading sacremoses-0.0.45-py3-none-any.whl (895 kB)\n",
            "\u001b[K     |████████████████████████████████| 895 kB 65.1 MB/s \n",
            "\u001b[?25hRequirement already satisfied: zipp>=0.5 in /usr/local/lib/python3.7/dist-packages (from importlib-metadata->transformers==4.3.3->kobart==0.4) (3.5.0)\n",
            "Requirement already satisfied: pyparsing>=2.0.2 in /usr/local/lib/python3.7/dist-packages (from packaging->transformers==4.3.3->kobart==0.4) (2.4.7)\n",
            "Requirement already satisfied: idna<3,>=2.5 in /usr/local/lib/python3.7/dist-packages (from requests->transformers==4.3.3->kobart==0.4) (2.10)\n",
            "Requirement already satisfied: chardet<4,>=3.0.2 in /usr/local/lib/python3.7/dist-packages (from requests->transformers==4.3.3->kobart==0.4) (3.0.4)\n",
            "Requirement already satisfied: certifi>=2017.4.17 in /usr/local/lib/python3.7/dist-packages (from requests->transformers==4.3.3->kobart==0.4) (2021.5.30)\n",
            "Requirement already satisfied: urllib3!=1.25.0,!=1.25.1,<1.26,>=1.21.1 in /usr/local/lib/python3.7/dist-packages (from requests->transformers==4.3.3->kobart==0.4) (1.24.3)\n",
            "Requirement already satisfied: joblib in /usr/local/lib/python3.7/dist-packages (from sacremoses->transformers==4.3.3->kobart==0.4) (1.0.1)\n",
            "Requirement already satisfied: six in /usr/local/lib/python3.7/dist-packages (from sacremoses->transformers==4.3.3->kobart==0.4) (1.15.0)\n",
            "Requirement already satisfied: click in /usr/local/lib/python3.7/dist-packages (from sacremoses->transformers==4.3.3->kobart==0.4) (7.1.2)\n",
            "Building wheels for collected packages: kobart\n",
            "  Building wheel for kobart (setup.py) ... \u001b[?25l\u001b[?25hdone\n",
            "  Created wheel for kobart: filename=kobart-0.4-py3-none-any.whl size=8538 sha256=787a1667a9f12413a6e76b76de96f327617f3be9e7ec7b1949896d4fb94e778c\n",
            "  Stored in directory: /tmp/pip-ephem-wheel-cache-a5cvn885/wheels/6e/55/c4/bd4fede223bc304089ac8da2a2099a69db3fcd4b0e853383f5\n",
            "Successfully built kobart\n",
            "Installing collected packages: tokenizers, sacremoses, transformers, torch, kobart\n",
            "  Attempting uninstall: torch\n",
            "    Found existing installation: torch 1.9.0+cu102\n",
            "    Uninstalling torch-1.9.0+cu102:\n",
            "      Successfully uninstalled torch-1.9.0+cu102\n",
            "\u001b[31mERROR: pip's dependency resolver does not currently take into account all the packages that are installed. This behaviour is the source of the following dependency conflicts.\n",
            "torchvision 0.10.0+cu102 requires torch==1.9.0, but you have torch 1.7.1 which is incompatible.\n",
            "torchtext 0.10.0 requires torch==1.9.0, but you have torch 1.7.1 which is incompatible.\u001b[0m\n",
            "Successfully installed kobart-0.4 sacremoses-0.0.45 tokenizers-0.10.3 torch-1.7.1 transformers-4.3.3\n"
          ]
        }
      ]
    },
    {
      "cell_type": "code",
      "metadata": {
        "colab": {
          "base_uri": "https://localhost:8080/"
        },
        "id": "DcWiHhVmlLSc",
        "outputId": "0a1407ef-55d8-4a6e-a1f3-e0501a445ed4"
      },
      "source": [
        "import torch\n",
        "from kobart import get_pytorch_kobart_model, get_kobart_tokenizer\n",
        "kobart_tokenizer = get_kobart_tokenizer()\n",
        "kobart_model = t.BartModel.from_pretrained(get_pytorch_kobart_model())"
      ],
      "execution_count": null,
      "outputs": [
        {
          "output_type": "stream",
          "name": "stdout",
          "text": [
            "using cached model\n",
            "using cached model\n"
          ]
        }
      ]
    },
    {
      "cell_type": "code",
      "metadata": {
        "id": "rOjxgQtc6k54"
      },
      "source": [
        "import math\n",
        "\n",
        "def bart_batch_embed(batch_sentences, use_avg=True):\n",
        "\n",
        "    tokenized = kobart_tokenizer(batch_sentences, \n",
        "                                padding='max_length', \n",
        "                                truncation=True, \n",
        "                                max_length=300, \n",
        "                                return_tensors='pt')\n",
        "    \n",
        "    # converting from torch to tf tensor via numpy array\n",
        "    input_ids = tf.constant(tokenized['input_ids'].detach().numpy())\n",
        "    input_mask = tf.constant(tokenized['attention_mask'].detach().numpy(), 'float32')\n",
        "\n",
        "    embedding = model(input_ids=input_ids)['last_hidden_state']\n",
        "\n",
        "    # using avg of token embeddings\n",
        "    if use_avg:\n",
        "        embedding_masked = tf.expand_dims(input_mask, -1) * embedding\n",
        "        final_embedding = tf.reduce_sum(embedding_masked, axis=1) / tf.reduce_sum(input_mask, axis=-1, keepdims=True)\n",
        "\n",
        "    #using CLS token embedding\n",
        "    else:\n",
        "        final_embedding = embedding[:, 0, :]\n",
        "    \n",
        "    return final_embedding\n",
        "\n",
        "def bart_embed(sentences, batch_size=100, use_avg=True):\n",
        "    \n",
        "    embedding_list = []\n",
        "\n",
        "    for i in tqdm.tqdm(range( math.ceil( len(sentences) / batch_size ) )):\n",
        "        start_idx = i * batch_size\n",
        "        batch = sentences[ start_idx : start_idx + batch_size ].tolist()  # kobart tokenizer only accepts list input\n",
        "        embedding_list.append( bart_batch_embed(batch, use_avg=use_avg) )\n",
        "    \n",
        "    return tf.concat(embedding_list, 0)\n",
        "\n",
        "embedded_document = bart_embed(df.document)\n",
        "embedded_document = embedded_document.numpy()\n",
        "np.save('bart_embed_document_avg', embedded_document)"
      ],
      "execution_count": null,
      "outputs": []
    },
    {
      "cell_type": "markdown",
      "metadata": {
        "id": "0PaGWKs2Bq_9"
      },
      "source": [
        "KoBart는 생각보다 결과가 좋지 않았음"
      ]
    },
    {
      "cell_type": "code",
      "metadata": {
        "colab": {
          "base_uri": "https://localhost:8080/",
          "height": 547
        },
        "id": "pDOLZ8eu6CW4",
        "outputId": "fa4bafc6-56b8-4f23-b4da-c90151566f6e"
      },
      "source": [
        "from annoy import AnnoyIndex\n",
        "\n",
        "length_of_vector = embedded_document.shape[1]\n",
        "annoy_index = AnnoyIndex(length_of_vector, 'angular')  \n",
        "\n",
        "for idx, doc_vec in tqdm.tqdm(enumerate(embedded_document)):\n",
        "    annoy_index.add_item(idx, doc_vec)\n",
        "\n",
        "annoy_index.build(10) \n",
        "\n",
        "n = 10\n",
        "idx = 0\n",
        "similar_idxs = annoy_index.get_nns_by_item(idx, n)\n",
        "df.iloc[similar_idxs, :]"
      ],
      "execution_count": null,
      "outputs": [
        {
          "output_type": "stream",
          "name": "stderr",
          "text": [
            "12176it [00:01, 8880.87it/s]\n"
          ]
        },
        {
          "output_type": "execute_result",
          "data": {
            "text/html": [
              "<div>\n",
              "<style scoped>\n",
              "    .dataframe tbody tr th:only-of-type {\n",
              "        vertical-align: middle;\n",
              "    }\n",
              "\n",
              "    .dataframe tbody tr th {\n",
              "        vertical-align: top;\n",
              "    }\n",
              "\n",
              "    .dataframe thead th {\n",
              "        text-align: right;\n",
              "    }\n",
              "</style>\n",
              "<table border=\"1\" class=\"dataframe\">\n",
              "  <thead>\n",
              "    <tr style=\"text-align: right;\">\n",
              "      <th></th>\n",
              "      <th>title</th>\n",
              "      <th>subtitle</th>\n",
              "      <th>english_section_name</th>\n",
              "      <th>english_url</th>\n",
              "      <th>document</th>\n",
              "      <th>summary</th>\n",
              "    </tr>\n",
              "  </thead>\n",
              "  <tbody>\n",
              "    <tr>\n",
              "      <th>0</th>\n",
              "      <td>상자에 리본 묶는 방법</td>\n",
              "      <td>대각선으로 묶기</td>\n",
              "      <td>Tying Ribbon Diagonally</td>\n",
              "      <td>https://www.wikihow.com/Tie-a-Ribbon-Around-a-Box</td>\n",
              "      <td>왼쪽 상단 구석에 10.16 - 20.32cm 정도의 끈을 남긴다. 끈 나머지 부분...</td>\n",
              "      <td>상자 왼쪽 상단 구석에 끈을 두르기. 오른쪽 상단 구석에 끈을 두르기. 끈으로 오른...</td>\n",
              "    </tr>\n",
              "    <tr>\n",
              "      <th>7551</th>\n",
              "      <td>고기 파이 만드는 방법</td>\n",
              "      <td>1인용 고기 파이 만들기</td>\n",
              "      <td>Making Individual Meat Pies</td>\n",
              "      <td>https://www.wikihow.com/Make-Meat-Pies</td>\n",
              "      <td>반죽을 밀어 6조각으로 똑같이 나눈다. 각 조각이 140g이 되게 한다. 각각 공처...</td>\n",
              "      <td>반죽 자르기. 반죽 펴기. 파이 소 채우기. 파이 위에 구멍 뚫기. 파이 굽기.</td>\n",
              "    </tr>\n",
              "    <tr>\n",
              "      <th>3526</th>\n",
              "      <td>자기 방어하는 법</td>\n",
              "      <td>방어적 자세 취하기</td>\n",
              "      <td>Maintaining a Defensive Posture</td>\n",
              "      <td>https://www.wikihow.com/Defend-Yourself</td>\n",
              "      <td>상대방이 정면에서 주먹을 날리거나 붙잡으려 한다면, “얼굴은 안 된다!”고 말하는 ...</td>\n",
              "      <td>얼굴 가리기. 넓게 서기. 상황 파악 잘하기. 도망가면서 방어하기.</td>\n",
              "    </tr>\n",
              "    <tr>\n",
              "      <th>11350</th>\n",
              "      <td>옷에 묻은 식용유 얼룩 지우는 방법</td>\n",
              "      <td>스웨터와 울에 묻은 기름 얼룩 지우기</td>\n",
              "      <td>Removing Cooking Oil from Sweaters and Wool</td>\n",
              "      <td>https://www.wikihow.com/Get-a-Cooking-Oil-Stai...</td>\n",
              "      <td>천에 묻은 얼룩을 지우려면 뜨거운 물로 빠는 것이 가장 좋다. 하지만 그렇게 하면 ...</td>\n",
              "      <td>준비물 준비하기. 스웨터를 2-3분 물에 담갔다가 꺼내기. 기타 울 소재 옷에 묻은...</td>\n",
              "    </tr>\n",
              "    <tr>\n",
              "      <th>332</th>\n",
              "      <td>가죽 소파 관리법</td>\n",
              "      <td>소파 컨디셔너 사용하기</td>\n",
              "      <td>Conditioning the Sofa</td>\n",
              "      <td>https://www.wikihow.com/Clean-a-Leather-Sofa</td>\n",
              "      <td>레몬 혹은 티트리 오일 10-15 방울을 백식초 2컵에 더해준다. 오일과 식초가 잘...</td>\n",
              "      <td>홈메이드 용액을 만들기. 소파 전체에 용액을 발라주기. 깨끗한 천으로 소파 광을 내주기.</td>\n",
              "    </tr>\n",
              "    <tr>\n",
              "      <th>4326</th>\n",
              "      <td>허벅지 사이에 갭을 만드는 법</td>\n",
              "      <td>호르몬 이해하기</td>\n",
              "      <td>Understanding Hormonal Fixes</td>\n",
              "      <td>https://www.wikihow.com/Get-a-Thigh-Gap</td>\n",
              "      <td>허벅지 갭을 갖기 위한 확실한 방법은, 체중에 상관없이, 넓은 골반이다. 아직 사춘...</td>\n",
              "      <td>사춘기를 기다린다. 의사와의 상담 시기를 알아야 한다.</td>\n",
              "    </tr>\n",
              "    <tr>\n",
              "      <th>5725</th>\n",
              "      <td>셀프 피부관리법</td>\n",
              "      <td>김쐬기</td>\n",
              "      <td>Using a Steam Treatment</td>\n",
              "      <td>https://www.wikihow.com/Give-Yourself-a-Deep-C...</td>\n",
              "      <td>얼굴에 김을 쐬주면 모공 깊숙한 곳까지 깨끗하게 해주므로 매우 좋다. 왜냐하면 그 ...</td>\n",
              "      <td>얼굴 김쐬기가 얼마나 중요한지 인식하자. 물을 끓이자. 얼굴에 김을 쐬자. 기호에 ...</td>\n",
              "    </tr>\n",
              "    <tr>\n",
              "      <th>1727</th>\n",
              "      <td>장미수 만드는 방법</td>\n",
              "      <td>으깬 장미 꽃잎으로 만드는 장미수</td>\n",
              "      <td>Making Rosewater with Crushed Petals</td>\n",
              "      <td>https://www.wikihow.com/Make-Rosewater</td>\n",
              "      <td>한 무더기는 으깨고 다른 한 무더기는 나중에 사용할 것이다. 장미 꽃잎을 으깨면 즙...</td>\n",
              "      <td>장미 꽃잎을 두 무더기로 나누기. 절구로 장미 꽃잎 으깨기. 즙과 으깬 꽃잎을 세라...</td>\n",
              "    </tr>\n",
              "    <tr>\n",
              "      <th>2354</th>\n",
              "      <td>가짜로 잠자는 법</td>\n",
              "      <td>밤새도록 잔 것처럼 속이기</td>\n",
              "      <td>Faking You Got a Full Night’s Sleep</td>\n",
              "      <td>https://www.wikihow.com/Fake-Sleep</td>\n",
              "      <td>차가운 물로 빠르게 몸을 헹궈서 샤워한다. 찬물은 심박수를 높여주고 신진대사를 촉진...</td>\n",
              "      <td>차가운 물에 샤워를 한다. 옷을 차려입고 아침 준비과정을 모두 마친다. 에너지를 얻...</td>\n",
              "    </tr>\n",
              "    <tr>\n",
              "      <th>3668</th>\n",
              "      <td>새롭게 새해 시작하는 방법</td>\n",
              "      <td>주위환경 정리하기</td>\n",
              "      <td>Tidying up Your Environment</td>\n",
              "      <td>https://www.wikihow.com/Start-the-New-Year-Fresh</td>\n",
              "      <td>새해가 되면, 방, 부엌, 화장실, 지하실을 청소한다. 지저분한 공간은 정리하고, ...</td>\n",
              "      <td>봄맞이 청소를 일찍해서 공간 정리하기. 옷을 정리해서 자주 입지 않는 옷은 버리기....</td>\n",
              "    </tr>\n",
              "  </tbody>\n",
              "</table>\n",
              "</div>"
            ],
            "text/plain": [
              "                     title  ...                                            summary\n",
              "0             상자에 리본 묶는 방법  ...  상자 왼쪽 상단 구석에 끈을 두르기. 오른쪽 상단 구석에 끈을 두르기. 끈으로 오른...\n",
              "7551          고기 파이 만드는 방법  ...       반죽 자르기. 반죽 펴기. 파이 소 채우기. 파이 위에 구멍 뚫기. 파이 굽기.\n",
              "3526             자기 방어하는 법  ...              얼굴 가리기. 넓게 서기. 상황 파악 잘하기. 도망가면서 방어하기.\n",
              "11350  옷에 묻은 식용유 얼룩 지우는 방법  ...  준비물 준비하기. 스웨터를 2-3분 물에 담갔다가 꺼내기. 기타 울 소재 옷에 묻은...\n",
              "332              가죽 소파 관리법  ...  홈메이드 용액을 만들기. 소파 전체에 용액을 발라주기. 깨끗한 천으로 소파 광을 내주기.\n",
              "4326      허벅지 사이에 갭을 만드는 법  ...                     사춘기를 기다린다. 의사와의 상담 시기를 알아야 한다.\n",
              "5725              셀프 피부관리법  ...  얼굴 김쐬기가 얼마나 중요한지 인식하자. 물을 끓이자. 얼굴에 김을 쐬자. 기호에 ...\n",
              "1727            장미수 만드는 방법  ...  장미 꽃잎을 두 무더기로 나누기. 절구로 장미 꽃잎 으깨기. 즙과 으깬 꽃잎을 세라...\n",
              "2354             가짜로 잠자는 법  ...  차가운 물에 샤워를 한다. 옷을 차려입고 아침 준비과정을 모두 마친다. 에너지를 얻...\n",
              "3668        새롭게 새해 시작하는 방법  ...  봄맞이 청소를 일찍해서 공간 정리하기. 옷을 정리해서 자주 입지 않는 옷은 버리기....\n",
              "\n",
              "[10 rows x 6 columns]"
            ]
          },
          "metadata": {},
          "execution_count": 29
        }
      ]
    },
    {
      "cell_type": "markdown",
      "metadata": {
        "id": "UUt0PA1aYRpV"
      },
      "source": [
        "`df.summary` 사용 시 조금 낫지만, KcBERT 보다 품질이 떨어짐"
      ]
    },
    {
      "cell_type": "code",
      "metadata": {
        "colab": {
          "base_uri": "https://localhost:8080/",
          "height": 565
        },
        "id": "TntUeaaO_8zk",
        "outputId": "a7ccd330-257a-4896-bd5e-ee8670502620"
      },
      "source": [
        "embedded_summary = bart_embed(df.summary, use_avg=False)\n",
        "embedded_summary = embedded_summary.numpy()\n",
        "np.save('bart_embed_summary_CLS', embedded_summary)\n",
        "\n",
        "length_of_vector = embedded_summary.shape[1]\n",
        "annoy_index = AnnoyIndex(length_of_vector, 'angular')  \n",
        "\n",
        "for idx, doc_vec in tqdm.tqdm(enumerate(embedded_summary)):\n",
        "    annoy_index.add_item(idx, doc_vec)\n",
        "\n",
        "annoy_index.build(10) \n",
        "\n",
        "n = 10\n",
        "idx = 0\n",
        "similar_idxs = annoy_index.get_nns_by_item(idx, n)\n",
        "df.iloc[similar_idxs, :]"
      ],
      "execution_count": null,
      "outputs": [
        {
          "output_type": "stream",
          "name": "stderr",
          "text": [
            "100%|██████████| 122/122 [04:30<00:00,  2.22s/it]\n",
            "12176it [00:01, 9108.54it/s]\n"
          ]
        },
        {
          "output_type": "execute_result",
          "data": {
            "text/html": [
              "<div>\n",
              "<style scoped>\n",
              "    .dataframe tbody tr th:only-of-type {\n",
              "        vertical-align: middle;\n",
              "    }\n",
              "\n",
              "    .dataframe tbody tr th {\n",
              "        vertical-align: top;\n",
              "    }\n",
              "\n",
              "    .dataframe thead th {\n",
              "        text-align: right;\n",
              "    }\n",
              "</style>\n",
              "<table border=\"1\" class=\"dataframe\">\n",
              "  <thead>\n",
              "    <tr style=\"text-align: right;\">\n",
              "      <th></th>\n",
              "      <th>title</th>\n",
              "      <th>subtitle</th>\n",
              "      <th>english_section_name</th>\n",
              "      <th>english_url</th>\n",
              "      <th>document</th>\n",
              "      <th>summary</th>\n",
              "    </tr>\n",
              "  </thead>\n",
              "  <tbody>\n",
              "    <tr>\n",
              "      <th>0</th>\n",
              "      <td>상자에 리본 묶는 방법</td>\n",
              "      <td>대각선으로 묶기</td>\n",
              "      <td>Tying Ribbon Diagonally</td>\n",
              "      <td>https://www.wikihow.com/Tie-a-Ribbon-Around-a-Box</td>\n",
              "      <td>왼쪽 상단 구석에 10.16 - 20.32cm 정도의 끈을 남긴다. 끈 나머지 부분...</td>\n",
              "      <td>상자 왼쪽 상단 구석에 끈을 두르기. 오른쪽 상단 구석에 끈을 두르기. 끈으로 오른...</td>\n",
              "    </tr>\n",
              "    <tr>\n",
              "      <th>1</th>\n",
              "      <td>상자에 리본 묶는 방법</td>\n",
              "      <td>기본으로 묶기</td>\n",
              "      <td>Doing a Basic Wrap</td>\n",
              "      <td>https://www.wikihow.com/Tie-a-Ribbon-Around-a-Box</td>\n",
              "      <td>10.16 - 20.32cm 정도는 밖으로 나오게 남겨둔다. 끈 끝이 너무 짧은 것...</td>\n",
              "      <td>상자 위에 끈을 수평으로 놓기. 끈 나머지를 상자 밑으로 넣고 다시 앞으로 당기기....</td>\n",
              "    </tr>\n",
              "    <tr>\n",
              "      <th>70</th>\n",
              "      <td>다쳐서 날지 못하는 새를 돌보는 방법</td>\n",
              "      <td>새 구조하기</td>\n",
              "      <td>Picking Up the Bird</td>\n",
              "      <td>https://www.wikihow.com/Care-for-an-Injured-Wi...</td>\n",
              "      <td>숨을 쉴 수 있는 구멍을 뚫은 골판지 박스를 사용하세요. 바닥에는 수건처럼 푹신한 ...</td>\n",
              "      <td>상자를 준비하세요. 새를 따뜻하게 만들어 줄 무언가를 준비하세요. 장갑을 끼세요. ...</td>\n",
              "    </tr>\n",
              "    <tr>\n",
              "      <th>6972</th>\n",
              "      <td>싸우는 방법</td>\n",
              "      <td>방어적으로 싸우기</td>\n",
              "      <td>Fighting Defensively</td>\n",
              "      <td>https://www.wikihow.com/Fight</td>\n",
              "      <td>주먹으로 맞지 “않는 것”이 가장 좋은 방법이긴 하지만, 만약 싸우게 된다면 언젠가...</td>\n",
              "      <td>상대의 주먹을 머리로 받으세요. 상대의 주먹을 복부로 받으세요. 태클 당하는 것을 ...</td>\n",
              "    </tr>\n",
              "    <tr>\n",
              "      <th>10798</th>\n",
              "      <td>위협적으로 보이는 방법</td>\n",
              "      <td>육체적으로 위협적이기 위한 방법</td>\n",
              "      <td>Being Physically Intimidating</td>\n",
              "      <td>https://www.wikihow.com/Be-Intimidating</td>\n",
              "      <td>몸짓 언어는 특정한 태도를 전달하는 데에 매우 중요합니다. 스스로를 최대한 크고 자...</td>\n",
              "      <td>똑바로 서세요. 공간을 채우세요. 손을 엉덩이에 올려놓으세요. 사람들 앞을 가로막으...</td>\n",
              "    </tr>\n",
              "    <tr>\n",
              "      <th>6071</th>\n",
              "      <td>다른 사람이 좋아하는 사람 되는 법</td>\n",
              "      <td>대화의 고수 되기</td>\n",
              "      <td>Being a Conversational Ninja</td>\n",
              "      <td>https://www.wikihow.com/Be-Liked</td>\n",
              "      <td>다른 사람들의 관심사와 취미에 흥미를 가져보라. 당신이 그들의 취미를 좋아하는 모습...</td>\n",
              "      <td>다른 사람을 진심으로 좋아하기. 진심으로 사람 대하기. 상대방에게 말할 기회 주기....</td>\n",
              "    </tr>\n",
              "    <tr>\n",
              "      <th>11681</th>\n",
              "      <td>비행기 여행을 위한 짐 싸는 법</td>\n",
              "      <td>기내용 가방 준비하기</td>\n",
              "      <td>Packing Your Carry-On</td>\n",
              "      <td>https://www.wikihow.com/Pack-for-Air-Travel</td>\n",
              "      <td>속옷이나 신발, 몇 벌의 옷, 오락을 위한 용품, 의약품, 그리고 장기 비행을 위한...</td>\n",
              "      <td>항상 필요한 물건은 기내용 가방에 넣기. 귀중품은 기내용 가방에 넣기. 전자 제품은...</td>\n",
              "    </tr>\n",
              "    <tr>\n",
              "      <th>11452</th>\n",
              "      <td>조종하는 행동을 알아차리는 방법</td>\n",
              "      <td>행동 관찰하기</td>\n",
              "      <td>Watching Their Behavior</td>\n",
              "      <td>https://www.wikihow.com/Pick-Up-on-Manipulativ...</td>\n",
              "      <td>조종하는 사람은 당신의 강점과 약점을 파악하기 위해 말하는 내용을 듣고자 하며, 당...</td>\n",
              "      <td>항상 당신이 먼저 말하기를 원하는지 알아본다. 그 사람이 어떤 목적을 달성하기 위해...</td>\n",
              "    </tr>\n",
              "    <tr>\n",
              "      <th>6788</th>\n",
              "      <td>공부하는 동안 방해요소를 피하는 방법</td>\n",
              "      <td>집중력 찾기</td>\n",
              "      <td>Finding a Focused Mindset</td>\n",
              "      <td>https://www.wikihow.com/Avoid-Distractions-Whi...</td>\n",
              "      <td>집중력이 흐트러질 때마다 멈춰서 스스로에게 “현재 하는 일에 집중하자”라고 말해본다...</td>\n",
              "      <td>‘현재 하는 일’에 집중하는 방법을 계속 진행한다. 특정한 방해요소를 알아차리면 그...</td>\n",
              "    </tr>\n",
              "    <tr>\n",
              "      <th>8223</th>\n",
              "      <td>팔자주름 없애는 법</td>\n",
              "      <td>스킨케어 제품 이용하기</td>\n",
              "      <td>Using Skin Products</td>\n",
              "      <td>https://www.wikihow.com/Get-Rid-of-Laugh-Lines</td>\n",
              "      <td>보습제로 피부에 수분을 보충해주면 입 주변을 비롯해 얼굴의 잔주름과 깊은 주름을 줄...</td>\n",
              "      <td>보습제를 매일 사용한다. 피부 엑스폴리언트를 정기적으로 사용하자 흙설탕과 코코넛 오...</td>\n",
              "    </tr>\n",
              "  </tbody>\n",
              "</table>\n",
              "</div>"
            ],
            "text/plain": [
              "                      title  ...                                            summary\n",
              "0              상자에 리본 묶는 방법  ...  상자 왼쪽 상단 구석에 끈을 두르기. 오른쪽 상단 구석에 끈을 두르기. 끈으로 오른...\n",
              "1              상자에 리본 묶는 방법  ...  상자 위에 끈을 수평으로 놓기. 끈 나머지를 상자 밑으로 넣고 다시 앞으로 당기기....\n",
              "70     다쳐서 날지 못하는 새를 돌보는 방법  ...  상자를 준비하세요. 새를 따뜻하게 만들어 줄 무언가를 준비하세요. 장갑을 끼세요. ...\n",
              "6972                 싸우는 방법  ...  상대의 주먹을 머리로 받으세요. 상대의 주먹을 복부로 받으세요. 태클 당하는 것을 ...\n",
              "10798          위협적으로 보이는 방법  ...  똑바로 서세요. 공간을 채우세요. 손을 엉덩이에 올려놓으세요. 사람들 앞을 가로막으...\n",
              "6071    다른 사람이 좋아하는 사람 되는 법  ...  다른 사람을 진심으로 좋아하기. 진심으로 사람 대하기. 상대방에게 말할 기회 주기....\n",
              "11681     비행기 여행을 위한 짐 싸는 법  ...  항상 필요한 물건은 기내용 가방에 넣기. 귀중품은 기내용 가방에 넣기. 전자 제품은...\n",
              "11452     조종하는 행동을 알아차리는 방법  ...  항상 당신이 먼저 말하기를 원하는지 알아본다. 그 사람이 어떤 목적을 달성하기 위해...\n",
              "6788   공부하는 동안 방해요소를 피하는 방법  ...  ‘현재 하는 일’에 집중하는 방법을 계속 진행한다. 특정한 방해요소를 알아차리면 그...\n",
              "8223             팔자주름 없애는 법  ...  보습제를 매일 사용한다. 피부 엑스폴리언트를 정기적으로 사용하자 흙설탕과 코코넛 오...\n",
              "\n",
              "[10 rows x 6 columns]"
            ]
          },
          "metadata": {},
          "execution_count": 32
        }
      ]
    },
    {
      "cell_type": "markdown",
      "metadata": {
        "id": "oG3VfaapErMn"
      },
      "source": [
        "## **TF-IDF 테스트**"
      ]
    },
    {
      "cell_type": "code",
      "metadata": {
        "id": "5yV-gQw8FUKg"
      },
      "source": [
        "document_tokenized = df['document'][:100].map(lambda s: ' '.join(tokenizer.tokenize(s)))\n"
      ],
      "execution_count": null,
      "outputs": []
    },
    {
      "cell_type": "code",
      "metadata": {
        "id": "TyfJMuDnCvzj"
      },
      "source": [
        "from sklearn.feature_extraction.text import TfidfVectorizer\n",
        "corpus = df['document'].map(lambda s: ' '.join(tokenizer.tokenize(s)))\n",
        "vectorizer = TfidfVectorizer()\n",
        "tfidf_matrix = vectorizer.fit_transform(corpus)"
      ],
      "execution_count": null,
      "outputs": []
    },
    {
      "cell_type": "code",
      "metadata": {
        "colab": {
          "base_uri": "https://localhost:8080/",
          "height": 565
        },
        "id": "O13QByZfIB4E",
        "outputId": "ee877cd7-99d9-4562-fa3e-72d8f5080c35"
      },
      "source": [
        "proj = random_projection.GaussianRandomProjection(eps=0.2)\n",
        "projection_embed = proj.fit_transform(tfidf_matrix)\n",
        "print(projection_embed.shape)\n",
        "\n",
        "length_of_vector = projection_embed.shape[1]\n",
        "annoy_index = AnnoyIndex(length_of_vector, 'angular')  \n",
        "\n",
        "for idx, doc_vec in tqdm.tqdm(enumerate(projection_embed)):\n",
        "    annoy_index.add_item(idx, doc_vec)\n",
        "\n",
        "annoy_index.build(100) \n",
        "\n",
        "n = 10\n",
        "idx = 0\n",
        "similar_idxs = annoy_index.get_nns_by_item(idx, n)\n",
        "df.iloc[similar_idxs, :]"
      ],
      "execution_count": null,
      "outputs": [
        {
          "output_type": "stream",
          "name": "stdout",
          "text": [
            "(12176, 2170)\n"
          ]
        },
        {
          "output_type": "stream",
          "name": "stderr",
          "text": [
            "12176it [00:03, 3079.94it/s]\n"
          ]
        },
        {
          "output_type": "execute_result",
          "data": {
            "text/html": [
              "<div>\n",
              "<style scoped>\n",
              "    .dataframe tbody tr th:only-of-type {\n",
              "        vertical-align: middle;\n",
              "    }\n",
              "\n",
              "    .dataframe tbody tr th {\n",
              "        vertical-align: top;\n",
              "    }\n",
              "\n",
              "    .dataframe thead th {\n",
              "        text-align: right;\n",
              "    }\n",
              "</style>\n",
              "<table border=\"1\" class=\"dataframe\">\n",
              "  <thead>\n",
              "    <tr style=\"text-align: right;\">\n",
              "      <th></th>\n",
              "      <th>title</th>\n",
              "      <th>subtitle</th>\n",
              "      <th>english_section_name</th>\n",
              "      <th>english_url</th>\n",
              "      <th>document</th>\n",
              "      <th>summary</th>\n",
              "    </tr>\n",
              "  </thead>\n",
              "  <tbody>\n",
              "    <tr>\n",
              "      <th>0</th>\n",
              "      <td>상자에 리본 묶는 방법</td>\n",
              "      <td>대각선으로 묶기</td>\n",
              "      <td>Tying Ribbon Diagonally</td>\n",
              "      <td>https://www.wikihow.com/Tie-a-Ribbon-Around-a-Box</td>\n",
              "      <td>왼쪽 상단 구석에 10.16 - 20.32cm 정도의 끈을 남긴다. 끈 나머지 부분...</td>\n",
              "      <td>상자 왼쪽 상단 구석에 끈을 두르기. 오른쪽 상단 구석에 끈을 두르기. 끈으로 오른...</td>\n",
              "    </tr>\n",
              "    <tr>\n",
              "      <th>6249</th>\n",
              "      <td>피쉬테일 땋는 법</td>\n",
              "      <td>일반 피쉬테일 땋기</td>\n",
              "      <td>Doing a Regular Fishtail Braid</td>\n",
              "      <td>https://www.wikihow.com/Make-a-Fishtail-Braid</td>\n",
              "      <td>왼쪽과 오른쪽으로 나눈다.</td>\n",
              "      <td>머리를 두 부분으로 나누기.</td>\n",
              "    </tr>\n",
              "    <tr>\n",
              "      <th>7695</th>\n",
              "      <td>머리 땋는 방법</td>\n",
              "      <td>다섯 가닥 땋기 하는 방법</td>\n",
              "      <td>Doing a Five-Strand Braid</td>\n",
              "      <td>https://www.wikihow.com/Braid-Hair</td>\n",
              "      <td>가장 쉬운 방법은 왼손으로 가장 왼쪽에 있는 두 가닥을 잡고, 오른손으로 가장 오른...</td>\n",
              "      <td>양손으로 머리가닥 잡기. 가장 왼쪽에 있는 걸 중간으로 보내기.</td>\n",
              "    </tr>\n",
              "    <tr>\n",
              "      <th>3022</th>\n",
              "      <td>종이 하트 접는 방법</td>\n",
              "      <td>2-D 하트 만들기</td>\n",
              "      <td>Making a 2-D Heart</td>\n",
              "      <td>https://www.wikihow.com/Fold-a-Paper-Heart</td>\n",
              "      <td>양손을 이용해 금의 양쪽을 각각 잡아주세요. 안으로 접는다는 것은 자신과 마주하지 ...</td>\n",
              "      <td>종이를 돌려서 전 단계에서 만든 금을 마주보세요. 사각형의 모서리를 안으로 접고 함...</td>\n",
              "    </tr>\n",
              "    <tr>\n",
              "      <th>3432</th>\n",
              "      <td>Adblock을 비활성화 하는 법</td>\n",
              "      <td>특정 사이트에서 애드블록 끄기</td>\n",
              "      <td>Disabling AdBlock on a Site</td>\n",
              "      <td>https://www.wikihow.com/Disable-AdBlock</td>\n",
              "      <td>특정 웹사이트에서 애드블록이 실행되고 있는 브라우저여야 합니다. 접속시 애드블록을 ...</td>\n",
              "      <td>브라우저를 엽니다. 웹사이트로 이동하십시오. 브라우저의 '확장 프로그램' 보기를 엽...</td>\n",
              "    </tr>\n",
              "    <tr>\n",
              "      <th>9690</th>\n",
              "      <td>윈도우7에서 시작 프로그램 변경하는 법</td>\n",
              "      <td>시작 폴더에서 프로그램 추가, 삭제하기</td>\n",
              "      <td>Adding or Removing Files from the Startup Folder</td>\n",
              "      <td>https://www.wikihow.com/Change-Startup-Program...</td>\n",
              "      <td>시작 버튼 &gt; 모든 프로그램 &gt; 시작 프로그램 폴더 순으로 들어가면 된다.   시작...</td>\n",
              "      <td>윈도우의 시작 메뉴에서 시작 프로그램 폴더를 찾는다. 윈도우 시작 시에 열고 싶은 ...</td>\n",
              "    </tr>\n",
              "    <tr>\n",
              "      <th>11046</th>\n",
              "      <td>윈도우 7에서 컴퓨터 밝기 조절하는 법</td>\n",
              "      <td>밝기 슬라이더 이용하기</td>\n",
              "      <td>Using the Brightness Slider</td>\n",
              "      <td>https://www.wikihow.com/Control-the-Brightness...</td>\n",
              "      <td>화면 하단 오른쪽 코너에 있는 배터리 모양이다.  이런 모양 ▲ 을 먼저 눌러야 할...</td>\n",
              "      <td>전원 옵션 아이콘을 누르기. 화면 밝기 조절 \"화면 밝기\" 슬라이더를 눌러 왼쪽이나...</td>\n",
              "    </tr>\n",
              "    <tr>\n",
              "      <th>7687</th>\n",
              "      <td>거북목 자세 고치는 방법</td>\n",
              "      <td>스트레칭으로 뭉쳐있는 근육 풀어주기</td>\n",
              "      <td>Releasing Tight Muscles with Stretches</td>\n",
              "      <td>https://www.wikihow.com/Correct-Forward-Head-P...</td>\n",
              "      <td>목이 머리를 만나는 곳 바로 윗부분이자 두개골의 맨 아랫부분에 위치해 있는 작은 근...</td>\n",
              "      <td>후두부 근육을 마사지 볼로 풀어주세요. 주기적으로 목 뒤를 스트레칭 해주세요. 목 ...</td>\n",
              "    </tr>\n",
              "    <tr>\n",
              "      <th>4521</th>\n",
              "      <td>브라우저의 시크릿 모드 쓰는 법</td>\n",
              "      <td>크롬(모바일)</td>\n",
              "      <td>Chrome on Mobile</td>\n",
              "      <td>https://www.wikihow.com/Activate-Incognito-Mode</td>\n",
              "      <td>빨강, 노랑, 초록, 파랑색이 섞인 구 모양의 아이콘 입니다. 화면 오른쪽 상단에 ...</td>\n",
              "      <td>구글 크롬 앱 {\"smallUrl\":\"https:\\/\\/www.wikihow.com...</td>\n",
              "    </tr>\n",
              "    <tr>\n",
              "      <th>6891</th>\n",
              "      <td>모두 선택하는 방법</td>\n",
              "      <td>윈도우</td>\n",
              "      <td>On Windows</td>\n",
              "      <td>https://www.wikihow.com/Select-All</td>\n",
              "      <td>컴퓨터에 나타나는 스크린, 창, 페이지에서 몇 가지 키를 동시에 눌러주면 선택 가능...</td>\n",
              "      <td>키보드 단축키 사용하기. 윈도우 익스플로러 사용하기. 오른쪽 클릭 메뉴 사용하기.</td>\n",
              "    </tr>\n",
              "  </tbody>\n",
              "</table>\n",
              "</div>"
            ],
            "text/plain": [
              "                       title  ...                                            summary\n",
              "0               상자에 리본 묶는 방법  ...  상자 왼쪽 상단 구석에 끈을 두르기. 오른쪽 상단 구석에 끈을 두르기. 끈으로 오른...\n",
              "6249               피쉬테일 땋는 법  ...                                    머리를 두 부분으로 나누기.\n",
              "7695                머리 땋는 방법  ...                양손으로 머리가닥 잡기. 가장 왼쪽에 있는 걸 중간으로 보내기.\n",
              "3022             종이 하트 접는 방법  ...  종이를 돌려서 전 단계에서 만든 금을 마주보세요. 사각형의 모서리를 안으로 접고 함...\n",
              "3432      Adblock을 비활성화 하는 법  ...  브라우저를 엽니다. 웹사이트로 이동하십시오. 브라우저의 '확장 프로그램' 보기를 엽...\n",
              "9690   윈도우7에서 시작 프로그램 변경하는 법  ...  윈도우의 시작 메뉴에서 시작 프로그램 폴더를 찾는다. 윈도우 시작 시에 열고 싶은 ...\n",
              "11046  윈도우 7에서 컴퓨터 밝기 조절하는 법  ...  전원 옵션 아이콘을 누르기. 화면 밝기 조절 \"화면 밝기\" 슬라이더를 눌러 왼쪽이나...\n",
              "7687           거북목 자세 고치는 방법  ...  후두부 근육을 마사지 볼로 풀어주세요. 주기적으로 목 뒤를 스트레칭 해주세요. 목 ...\n",
              "4521       브라우저의 시크릿 모드 쓰는 법  ...  구글 크롬 앱 {\"smallUrl\":\"https:\\/\\/www.wikihow.com...\n",
              "6891              모두 선택하는 방법  ...      키보드 단축키 사용하기. 윈도우 익스플로러 사용하기. 오른쪽 클릭 메뉴 사용하기.\n",
              "\n",
              "[10 rows x 6 columns]"
            ]
          },
          "metadata": {},
          "execution_count": 90
        }
      ]
    },
    {
      "cell_type": "code",
      "metadata": {
        "colab": {
          "base_uri": "https://localhost:8080/",
          "height": 244
        },
        "id": "sriKbn17KL8s",
        "outputId": "48748267-a17b-4ab6-8f58-ec3567b5a3a1"
      },
      "source": [
        "annoy_index.build(100) \n",
        "\n",
        "n = 10\n",
        "idx = 5921\n",
        "similar_idxs = annoy_index.get_nns_by_item(idx, n)\n",
        "df.iloc[similar_idxs, :]"
      ],
      "execution_count": null,
      "outputs": [
        {
          "output_type": "error",
          "ename": "Exception",
          "evalue": "ignored",
          "traceback": [
            "\u001b[0;31m---------------------------------------------------------------------------\u001b[0m",
            "\u001b[0;31mException\u001b[0m                                 Traceback (most recent call last)",
            "\u001b[0;32m<ipython-input-89-2071f10de3a1>\u001b[0m in \u001b[0;36m<module>\u001b[0;34m()\u001b[0m\n\u001b[0;32m----> 1\u001b[0;31m \u001b[0mannoy_index\u001b[0m\u001b[0;34m.\u001b[0m\u001b[0mbuild\u001b[0m\u001b[0;34m(\u001b[0m\u001b[0;36m100\u001b[0m\u001b[0;34m)\u001b[0m\u001b[0;34m\u001b[0m\u001b[0;34m\u001b[0m\u001b[0m\n\u001b[0m\u001b[1;32m      2\u001b[0m \u001b[0;34m\u001b[0m\u001b[0m\n\u001b[1;32m      3\u001b[0m \u001b[0mn\u001b[0m \u001b[0;34m=\u001b[0m \u001b[0;36m10\u001b[0m\u001b[0;34m\u001b[0m\u001b[0;34m\u001b[0m\u001b[0m\n\u001b[1;32m      4\u001b[0m \u001b[0midx\u001b[0m \u001b[0;34m=\u001b[0m \u001b[0;36m5921\u001b[0m\u001b[0;34m\u001b[0m\u001b[0;34m\u001b[0m\u001b[0m\n\u001b[1;32m      5\u001b[0m \u001b[0msimilar_idxs\u001b[0m \u001b[0;34m=\u001b[0m \u001b[0mannoy_index\u001b[0m\u001b[0;34m.\u001b[0m\u001b[0mget_nns_by_item\u001b[0m\u001b[0;34m(\u001b[0m\u001b[0midx\u001b[0m\u001b[0;34m,\u001b[0m \u001b[0mn\u001b[0m\u001b[0;34m)\u001b[0m\u001b[0;34m\u001b[0m\u001b[0;34m\u001b[0m\u001b[0m\n",
            "\u001b[0;31mException\u001b[0m: You can't build a built index"
          ]
        }
      ]
    }
  ]
}